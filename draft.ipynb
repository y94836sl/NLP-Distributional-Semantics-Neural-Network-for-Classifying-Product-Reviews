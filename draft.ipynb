{
 "cells": [
  {
   "cell_type": "code",
   "execution_count": 1,
   "id": "be41c655",
   "metadata": {},
   "outputs": [
    {
     "name": "stderr",
     "output_type": "stream",
     "text": [
      "[nltk_data] Downloading package stopwords to\n",
      "[nltk_data]     /Users/rubyli/nltk_data...\n",
      "[nltk_data]   Package stopwords is already up-to-date!\n",
      "[nltk_data] Downloading package wordnet to /Users/rubyli/nltk_data...\n",
      "[nltk_data]   Package wordnet is already up-to-date!\n",
      "[nltk_data] Downloading package omw-1.4 to /Users/rubyli/nltk_data...\n",
      "[nltk_data]   Package omw-1.4 is already up-to-date!\n"
     ]
    }
   ],
   "source": [
    "from nltk.corpus.reader.wordnet import Lemma\n",
    "import nltk\n",
    "from nltk import FreqDist\n",
    "nltk.download('stopwords')\n",
    "nltk.download('wordnet')\n",
    "nltk.download('omw-1.4')\n",
    "# For file reading\n",
    "import os\n",
    "from os import listdir\n",
    "# For pre-processing \n",
    "from nltk.tokenize import punkt\n",
    "from nltk.corpus import stopwords\n",
    "from nltk.stem.wordnet import WordNetLemmatizer\n",
    "from nltk.stem import PorterStemmer\n",
    "import string\n",
    "import time"
   ]
  },
  {
   "cell_type": "markdown",
   "id": "85e4e155-2070-4b3e-ac7b-59e70c37ceb5",
   "metadata": {},
   "source": [
    "# Task 1 - Step 1"
   ]
  },
  {
   "cell_type": "code",
   "execution_count": 2,
   "id": "90bad112-f093-4a91-9de6-e67a56cdc5da",
   "metadata": {},
   "outputs": [],
   "source": [
    "def read_data(path: str) -> list:\n",
    "    \"\"\" Read files from a directory and then append the data of each file into a list. \"\"\"\n",
    "    folder = listdir(path)\n",
    "    res = []\n",
    "    for files in folder:\n",
    "        # check if current path is a file\n",
    "        if files != \"README.txt\":\n",
    "            filePath = os.path.join(path, files)\n",
    "            if os.path.isfile(filePath):\n",
    "                with open(filePath, \"r\") as file:\n",
    "                    lines = file.readlines()\n",
    "                res.append(lines)\n",
    "    return res"
   ]
  },
  {
   "cell_type": "code",
   "execution_count": 3,
   "id": "3b16391c-fc5b-4834-a729-2035782bee34",
   "metadata": {},
   "outputs": [
    {
     "name": "stdout",
     "output_type": "stream",
     "text": [
      "['[t]\\n', 'Works[+3]##Works great, no odor, and uses regular bags.\\n', \"##Can't complain at all!\\n\", '[t]\\n', \"Diaper Champ[+2]##So far (3 weeks), we've had no problems with the Diaper Champ at all.\\n\"]\n"
     ]
    }
   ],
   "source": [
    "path = \"/Users/rubyli/Desktop/GitHubRepos/UoM/NLP-Distributional-Semantics-Neural-Network-for-Classifying-Product-Reviews/product_reviews\"\n",
    "res = read_data(path)\n",
    "doc = \"\"\n",
    "for a in res:\n",
    "    for b in a:\n",
    "        doc += b\n",
    "print(res[0][:5])\n",
    "# print(doc)"
   ]
  },
  {
   "cell_type": "code",
   "execution_count": 4,
   "id": "ac9c38aa-5974-4136-9dc0-0996730a0158",
   "metadata": {},
   "outputs": [],
   "source": [
    "def process_document(document: str) -> list:\n",
    "        \"\"\" pre-process a document and return a list of its terms: str->list\"\"\"\n",
    "        \n",
    "        pattern = r'''(?x)        # set flag to allow verbose regexps\n",
    "                    (?:[A-Z]\\.)+     #abbreviations\n",
    "                    |\\w+(?:[-']\\w+)*   #word-internal hyphens\n",
    "                    |'\n",
    "                    |\\[\n",
    "                    |\\#\n",
    "                    |[-.(]+           #double hyphen, ellipsis, open parenthesis\n",
    "                    |\\S\\w*\n",
    "                    |\\$?\\d+(?:\\.\\d+)?%? #currency and percentages\n",
    "        '''\n",
    "        #Tokenization\n",
    "        tokenList = nltk.regexp_tokenize(document, pattern)\n",
    "        #To lower case\n",
    "        tokenList = [word.lower() for word in tokenList]\n",
    "        #Remove Punctuation\n",
    "        tokenList = list(filter(lambda word: punkt.PunktToken(word).is_non_punct,tokenList))\n",
    "        #Remove stopwords\n",
    "        tokenList = list(filter(lambda word: word not in stopwords.words(\"english\"),tokenList))\n",
    "        # Lemmatisation \n",
    "        lemma = WordNetLemmatizer()\n",
    "        tokenList = [lemma.lemmatize(word) for word in tokenList]\n",
    "\n",
    "        return tokenList  "
   ]
  },
  {
   "cell_type": "code",
   "execution_count": 5,
   "id": "12a71a40-da8f-4936-bafd-83e35e2a3369",
   "metadata": {},
   "outputs": [
    {
     "data": {
      "text/plain": [
       "['work',\n",
       " 'work',\n",
       " 'great',\n",
       " 'odor',\n",
       " 'us',\n",
       " 'regular',\n",
       " 'bag',\n",
       " \"can't\",\n",
       " 'complain',\n",
       " 'diaper',\n",
       " 'champ',\n",
       " 'far',\n",
       " '3',\n",
       " 'week',\n",
       " \"we've\",\n",
       " 'problem',\n",
       " 'diaper',\n",
       " 'champ',\n",
       " 'diaper',\n",
       " 'contains']"
      ]
     },
     "execution_count": 5,
     "metadata": {},
     "output_type": "execute_result"
    }
   ],
   "source": [
    "producedDoc = process_document(doc)\n",
    "producedDoc[:20]"
   ]
  },
  {
   "cell_type": "code",
   "execution_count": 6,
   "id": "c709f15f-5a31-4ddb-808f-dad1f7c52a1f",
   "metadata": {},
   "outputs": [
    {
     "data": {
      "text/plain": [
       "FreqDist({'2': 467, '1': 355, 'u': 347, 'phone': 343, 'use': 339, 'one': 331, 'router': 330, 'ipod': 320, 'player': 309, 'camera': 308, ...})"
      ]
     },
     "execution_count": 6,
     "metadata": {},
     "output_type": "execute_result"
    }
   ],
   "source": [
    "# Find the 50 most frequently occurred words\n",
    "# Get the frequency of each word\n",
    "word_frequencies = FreqDist(producedDoc)\n",
    "word_frequencies"
   ]
  },
  {
   "cell_type": "code",
   "execution_count": 7,
   "id": "aeaebacc-04e8-4736-96ad-2b5a34c19981",
   "metadata": {},
   "outputs": [
    {
     "name": "stdout",
     "output_type": "stream",
     "text": [
      "['2', '1', 'u', 'phone', 'use', 'one', 'router', 'ipod', 'player', 'camera', '3', 'get', 'battery', 'diaper', 'product', 'work', 'like', 'great', 'time', 'problem', 'feature', 'good', 'zen', 'quality', 'would', 'also', 'sound', 'computer', 'software', 'really', \"i've\", 'picture', 'micro', 'well', 'take', 'thing', 'even', 'easy', \"i'm\", 'need', 'used', 'first', 'bag', 'much', 'want', 'champ', 'better', 'p', 'look', 'creative']\n"
     ]
    }
   ],
   "source": [
    "# Sort the dictionary by frequency\n",
    "sorted_frequencies = sorted(word_frequencies.items(), key=lambda item: item[1], reverse=True)\n",
    "\n",
    "# Select the top 50 words\n",
    "target_words = [item[0] for item in sorted_frequencies[:50]]\n",
    "print(target_words)"
   ]
  },
  {
   "cell_type": "markdown",
   "id": "65b02ead-22ba-486c-bae0-f2e48d1d4693",
   "metadata": {},
   "source": [
    "# Task 1 - Step 2"
   ]
  },
  {
   "cell_type": "code",
   "execution_count": 8,
   "id": "8ebc9d86-d798-47f8-b6de-f0cf440a288c",
   "metadata": {},
   "outputs": [],
   "source": [
    "import random\n",
    "\n",
    "# Sample half of the target words\n",
    "sample_size = len(target_words) // 2\n",
    "sample = random.sample(target_words, sample_size)\n",
    "# Create pseudowords for the sampled target words\n",
    "madeups = [word[::-1] for word in sample]\n",
    "# Replace the sampled occurrences of the target words with their pseudowords\n",
    "pseudowords = target_words\n",
    "for i, word in enumerate(target_words):\n",
    "    if word in sample:\n",
    "        # Find the index of the word to be replace\n",
    "        replacement_index = sample.index(word)\n",
    "        # Replace the word with the corresponding word from the replacement list\n",
    "        pseudowords[i] = madeups[replacement_index]"
   ]
  },
  {
   "cell_type": "code",
   "execution_count": 9,
   "id": "f25ede56-b821-4fac-90b3-21ff7aba49e5",
   "metadata": {},
   "outputs": [
    {
     "name": "stdout",
     "output_type": "stream",
     "text": [
      "['2', '1', 'u', 'enohp', 'esu', 'eno', 'retuor', 'ipod', 'reyalp', 'aremac', '3', 'teg', 'yrettab', 'diaper', 'tcudorp', 'work', 'ekil', 'taerg', 'time', 'melborp', 'feature', 'doog', 'zen', 'quality', 'would', 'also', 'sound', 'retupmoc', 'software', 'really', \"i've\", 'picture', 'micro', 'well', 'ekat', 'gniht', 'even', 'ysae', \"m'i\", 'need', 'used', 'tsrif', 'bag', 'hcum', 'tnaw', 'champ', 'retteb', 'p', 'look', 'evitaerc']\n"
     ]
    }
   ],
   "source": [
    "print(pseudowords)"
   ]
  },
  {
   "cell_type": "markdown",
   "id": "14119467-822c-4ef7-ba01-fd2fb28599b8",
   "metadata": {},
   "source": [
    "# Task 1 - Step 3"
   ]
  },
  {
   "cell_type": "code",
   "execution_count": 10,
   "id": "252ed61c-f1a1-42f2-8420-2a0823d89150",
   "metadata": {},
   "outputs": [
    {
     "name": "stdout",
     "output_type": "stream",
     "text": [
      "100\n"
     ]
    }
   ],
   "source": [
    "# Create a corpus containing the target words and pseudowords\n",
    "corpus = target_words + pseudowords\n",
    "print(len(corpus))"
   ]
  },
  {
   "cell_type": "code",
   "execution_count": 11,
   "id": "0ccd0aec-9e36-44ec-9591-dd4976bdc9cf",
   "metadata": {},
   "outputs": [],
   "source": [
    "def word_count(str):\n",
    "    counts = dict()\n",
    "    words = str.split()\n",
    "    for word in words:\n",
    "        if word in counts:\n",
    "            counts[word] += 1\n",
    "        else:\n",
    "            counts[word] = 1\n",
    "    return counts"
   ]
  },
  {
   "cell_type": "code",
   "execution_count": 12,
   "id": "4c2a8394-146d-49a2-b63a-feef0e1642fa",
   "metadata": {},
   "outputs": [
    {
     "name": "stdout",
     "output_type": "stream",
     "text": [
      "['[t]\\n', 'Works[+3]##Works great, no odor, and uses regular bags.\\n', \"##Can't complain at all!\\n\", '[t]\\n']\n"
     ]
    }
   ],
   "source": [
    "# Get all the sentences in all documents\n",
    "sentences = []\n",
    "for doc in res:\n",
    "    for sen in doc:\n",
    "        sentences.append(sen)\n",
    "\n",
    "print(sentences[:4])"
   ]
  },
  {
   "cell_type": "code",
   "execution_count": 13,
   "id": "1dae0463-b1fd-468c-87cb-064b109eee07",
   "metadata": {},
   "outputs": [
    {
     "name": "stdout",
     "output_type": "stream",
     "text": [
      "[{}, {'work': 2, 'great': 1, 'odor': 1, 'us': 1, 'regular': 1, 'bag': 1}, {\"can't\": 1, 'complain': 1}, {}, {'diaper': 2, 'champ': 2, 'far': 1, '3': 1, 'week': 1, \"we've\": 1, 'problem': 1}, {'diaper': 2, 'contains': 1, 'smell': 1, \"baby's\": 1, 'use': 1, 'kind': 1, 'bag': 1, 'inside': 1}, {'also': 1, 'sprinkled': 1, 'baking': 2, 'soda': 2, 'bottom': 1, 'diaper': 1, 'champ': 1, 'help': 1, 'absorb': 1, 'odor': 1, 'every': 1, 'awhile': 1, 'empty': 1, 'old': 1, 'replace': 1}, {'odor': 2, ',refills': 1, 'know': 1, \"we'll\": 1, 'run': 1, 'trouble': 1, 'road': 1, 'far': 1, 'complaint': 1, \"i'm\": 1, 'happy': 1, 'buy': 1, 'refill': 1}, {}, {'started': 1, 'diaper': 1, 'genie': 1, 'new': 1, 'parent': 1}]\n"
     ]
    }
   ],
   "source": [
    "# Loop through each sentence and count the frequency of each word\n",
    "from collections import Counter\n",
    "\n",
    "sen_count = []\n",
    "for i, sentence in enumerate(sentences):\n",
    "    counts = dict()\n",
    "    words = process_document(sentence)\n",
    "    for word in words:\n",
    "        if word in counts:\n",
    "            counts[word] += 1\n",
    "        else:\n",
    "            counts[word] = 1\n",
    "    sen_count.append(counts)\n",
    "print(sen_count[:10])"
   ]
  },
  {
   "cell_type": "code",
   "execution_count": 14,
   "id": "a341e54d-d36f-4c62-a245-b0c5f9218d0b",
   "metadata": {},
   "outputs": [
    {
     "name": "stdout",
     "output_type": "stream",
     "text": [
      "[1 1 1 0 0 0 0 0 0 0 0 1 0 0 0 1 0 0 0 0]\n"
     ]
    }
   ],
   "source": [
    "import numpy as np\n",
    "\n",
    "# Construct Nxd array based on the word-sentence frequency\n",
    "pre_M = []\n",
    "for word in corpus:\n",
    "    word_freq = []\n",
    "    for sentence in sen_count:\n",
    "        tempfreq = sentence.get(word)\n",
    "        if tempfreq != None:\n",
    "            word_freq.append(tempfreq)\n",
    "        else:\n",
    "            word_freq.append(0)\n",
    "    pre_M.append(word_freq)\n",
    "M = np.array(pre_M)\n",
    "print(M[0][30:50])"
   ]
  },
  {
   "cell_type": "code",
   "execution_count": 15,
   "id": "2bd7c7cc-245f-4f7d-b903-cd30780e2946",
   "metadata": {},
   "outputs": [
    {
     "name": "stdout",
     "output_type": "stream",
     "text": [
      "(100, 4584)\n"
     ]
    }
   ],
   "source": [
    "print(M.shape)"
   ]
  },
  {
   "cell_type": "code",
   "execution_count": 16,
   "id": "1faccfad-1dac-47e0-83fc-da155792456d",
   "metadata": {},
   "outputs": [
    {
     "name": "stdout",
     "output_type": "stream",
     "text": [
      "<class 'numpy.ndarray'>\n"
     ]
    }
   ],
   "source": [
    "print(type(M))"
   ]
  },
  {
   "cell_type": "code",
   "execution_count": 18,
   "id": "0f827dd0-89f9-4d3a-8ab8-f84d70b64731",
   "metadata": {},
   "outputs": [],
   "source": [
    "def featureVector(target_words: list, pseudowords: list, res: list) -> np.array:\n",
    "    \n",
    "    # Create a corpus containing the target words and pseudowords\n",
    "    corpus = target_words + pseudowords\n",
    "    \n",
    "    # Get all the sentences in all documents\n",
    "    sentences = []\n",
    "    for doc in res:\n",
    "        for sen in doc:\n",
    "            sentences.append(sen)\n",
    "    \n",
    "    # Loop through each sentence and count the frequency of each word\n",
    "    sen_count = []\n",
    "    for i, sentence in enumerate(sentences):\n",
    "        counts = dict()\n",
    "        words = process_document(sentence)\n",
    "        for word in words:\n",
    "            if word in counts:\n",
    "                counts[word] += 1\n",
    "            else:\n",
    "                counts[word] = 1\n",
    "        sen_count.append(counts)\n",
    "        \n",
    "    # Construct Nxd array based on the word-sentence frequency\n",
    "    pre_M = []\n",
    "    for word in corpus:\n",
    "        word_freq = []\n",
    "        for sentence in sen_count:\n",
    "            tempfreq = sentence.get(word)\n",
    "            if tempfreq != None:\n",
    "                word_freq.append(tempfreq)\n",
    "            else:\n",
    "                word_freq.append(0)\n",
    "        pre_M.append(word_freq)\n",
    "    M = np.array(pre_M)\n",
    "    \n",
    "    return M"
   ]
  },
  {
   "cell_type": "code",
   "execution_count": null,
   "id": "cc89e1dc-c92a-4f65-8f37-5cfb6398fa9e",
   "metadata": {},
   "outputs": [],
   "source": []
  }
 ],
 "metadata": {
  "kernelspec": {
   "display_name": "Python 3 (ipykernel)",
   "language": "python",
   "name": "python3"
  },
  "language_info": {
   "codemirror_mode": {
    "name": "ipython",
    "version": 3
   },
   "file_extension": ".py",
   "mimetype": "text/x-python",
   "name": "python",
   "nbconvert_exporter": "python",
   "pygments_lexer": "ipython3",
   "version": "3.9.13"
  }
 },
 "nbformat": 4,
 "nbformat_minor": 5
}
