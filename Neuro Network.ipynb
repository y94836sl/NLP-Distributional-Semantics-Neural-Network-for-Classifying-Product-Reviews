{
 "cells": [
  {
   "cell_type": "code",
   "execution_count": 1,
   "id": "06b18efd-fc1f-457f-ae73-34397493211b",
   "metadata": {},
   "outputs": [],
   "source": [
    "from nltk.corpus.reader.wordnet import Lemma\n",
    "import nltk\n",
    "\n",
    "# For file reading\n",
    "import os\n",
    "from os import listdir\n",
    "# For pre-processing \n",
    "from nltk import word_tokenize\n",
    "from nltk.tokenize import punkt\n",
    "from nltk.corpus import stopwords\n",
    "from nltk.stem.wordnet import WordNetLemmatizer\n",
    "from nltk.stem import PorterStemmer\n",
    "\n",
    "import re\n",
    "import pandas as pd\n",
    "import numpy as np\n",
    "import string\n",
    "import random\n",
    "\n",
    "import torch\n",
    "import torch.nn as nn\n",
    "import torch.nn.functional as F\n",
    "import seaborn as sns\n",
    "import matplotlib.pyplot as plt\n",
    "from tqdm import tqdm\n",
    "from collections import Counter\n",
    "from torch.utils.data import TensorDataset, DataLoader\n",
    "from sklearn.model_selection import train_test_split\n",
    "from sklearn.cluster import KMeans"
   ]
  },
  {
   "cell_type": "code",
   "execution_count": 2,
   "id": "3a7e5886-c4ee-44de-89e2-09f3baef009c",
   "metadata": {},
   "outputs": [],
   "source": [
    "def read_data(path: str) -> list:\n",
    "    \"\"\" Read files from a directory and then append the data of each file into a list. \"\"\"\n",
    "    folder = listdir(path)\n",
    "    res = []\n",
    "    for files in folder:\n",
    "        # check if current path is a file\n",
    "        if files != \"README.txt\":\n",
    "            filePath = os.path.join(path, files)\n",
    "            if os.path.isfile(filePath):\n",
    "                with open(filePath, \"r\") as file:\n",
    "                    lines = file.readlines()\n",
    "                res.append(lines)\n",
    "    return res\n",
    "\n",
    "def get_raw_data(res: list) -> list:\n",
    "    '''Get avaliable data for training and testing data'''\n",
    "    # Getting avaliable data for LSTM\n",
    "    avaliable_data = []\n",
    "    for document in res:\n",
    "        # Remove \\n from the string list\n",
    "        processedList = [s.strip() for s in document]\n",
    "        # Remove [t] tag\n",
    "        processedList = [re.sub('\\[t\\]', '', word) for word in processedList]\n",
    "        # Store values in list\n",
    "        for sentence in processedList:\n",
    "            # Remove non-tagged data and empty data\n",
    "            if (not sentence.startswith(\"##\")) and (sentence != \"\"):\n",
    "                avaliable_data.append(sentence)\n",
    "                \n",
    "    # Store raw review and raw sentiment seperatly in 2 lists\n",
    "    raw_tag = []\n",
    "    raw_text = []\n",
    "    \n",
    "    for data in avaliable_data:\n",
    "        # Split data into tag and text\n",
    "        split_data = data.split(\"##\")\n",
    "\n",
    "        left_tag = split_data[0]\n",
    "        right_text = split_data[-1]\n",
    "\n",
    "        # print(\"Before:   \",left_tag)\n",
    "\n",
    "        # Get pre-defined sentiment tags, with or without +/-\n",
    "        num_list = re.findall(r'[+|-]+\\d+', left_tag)\n",
    "        num_only = re.findall(r'\\[\\d+\\]', left_tag)\n",
    "\n",
    "        new_num_only = [num.replace('[', '') for num in num_only]\n",
    "        new_num_only = [num.replace(']', '') for num in new_num_only]\n",
    "        num_list = num_list +  new_num_only\n",
    "        \n",
    "        raw_tag.append(num_list)\n",
    "        raw_text.append(right_text)\n",
    "    \n",
    "    return raw_tag, raw_text\n",
    "\n",
    "def preprocess_text(s: str) -> list:\n",
    "    '''Text cleaning and pre-processing'''\n",
    "    # Remove number\n",
    "    s = re.sub(r'\\d+', ' ', s)\n",
    "    pattern = r'''(?x)        # set flag to allow verbose regexps\n",
    "                    (?:[A-Z]\\.)+      #abbreviations, e.g. \n",
    "                    |\\[\n",
    "                    |\\w+\\'+\\w+        #keep contractions, e.g. doesn't \n",
    "                    |[^\\w\\s]\n",
    "                    |\\#\n",
    "                    |[-.(]+           #double hyphen, ellipsis, open parenthesis\n",
    "                    |\\S\\w*\n",
    "                    |\\$?\\d+(?:\\.\\d+)?%? #currency and percentages\n",
    "        '''\n",
    "    # Tokenization\n",
    "    token_list = nltk.regexp_tokenize(s, pattern)\n",
    "    #To lower case\n",
    "    token_list = [word.lower() for word in token_list]\n",
    "    #Remove stopwords\n",
    "    stopW = stopwords.words(\"english\")\n",
    "    stopW.append(\"mp\")\n",
    "    stopW.append(\"i'm\")\n",
    "    stopW.append(\"i've\")\n",
    "    token_list = list(filter(lambda word: word not in stopW,token_list))\n",
    "    #Remove Punctuation\n",
    "    token_list = list(filter(lambda word: punkt.PunktToken(word).is_non_punct,token_list))\n",
    "    # Lemmatization \n",
    "    lemma = WordNetLemmatizer()\n",
    "    token_list = [lemma.lemmatize(word) for word in token_list]\n",
    "    \n",
    "    return token_list\n",
    "\n",
    "def get_review_label(raw_tag: list, raw_text: list):\n",
    "    '''Pre-process the reviews and encoding the label'''\n",
    "    reviews = []\n",
    "    for text in raw_text:\n",
    "        review = preprocess_text(text)\n",
    "        reviews.append(review)\n",
    "    sentiments = []\n",
    "    for review in raw_tag:\n",
    "        total = 0\n",
    "        tag_size = len(review)\n",
    "        # Add all the positive and negative tag together to check if the whole review is positive or negative\n",
    "        if tag_size >= 1:\n",
    "            for num in review:\n",
    "                total += int(num)\n",
    "        \n",
    "        # Encoded the labels\n",
    "        if total > 0:\n",
    "            sentiments.append(1)\n",
    "        else:\n",
    "            sentiments.append(0)\n",
    "    return sentiments, reviews\n",
    "\n",
    "\n",
    "def get_encoded_reviews(reviews: list):\n",
    "    '''Encoding all the words with their frquency'''\n",
    "    # Get word frequency in all reviews\n",
    "    all_word = []\n",
    "    for sen in reviews:\n",
    "        all_word+=sen\n",
    "\n",
    "    word_freq = nltk.FreqDist(all_word)\n",
    "\n",
    "    # Encode the reviews\n",
    "    encoded_review = []\n",
    "    for sen in reviews:\n",
    "        encode_list = list(word_freq[word] for word in sen)\n",
    "        encoded_review.append(encode_list)\n",
    "    \n",
    "    return encoded_review\n",
    "\n",
    "\n",
    "def pad_features(reviews_int, seq_length):\n",
    "    ''' Return features of review_ints, where each review is padded with 0's or truncated to the input seq_length.\n",
    "    '''\n",
    "    features = np.zeros((len(reviews_int), seq_length), dtype = int)\n",
    "    \n",
    "    for i, review in enumerate(reviews_int):\n",
    "        review_len = len(review)\n",
    "        \n",
    "        if review_len <= seq_length:\n",
    "            zeroes = list(np.zeros(seq_length-review_len))\n",
    "            new = zeroes+review\n",
    "        elif review_len > seq_length:\n",
    "            new = review[0:seq_length]\n",
    "        \n",
    "        features[i,:] = np.array(new)\n",
    "    \n",
    "    return features"
   ]
  },
  {
   "cell_type": "markdown",
   "id": "1718063a-4545-4e12-86b4-29c02e42e39b",
   "metadata": {},
   "source": [
    "# Get reviews and labels"
   ]
  },
  {
   "cell_type": "code",
   "execution_count": 3,
   "id": "8647ef7d-7cf9-42dd-9a95-34152c93839f",
   "metadata": {},
   "outputs": [],
   "source": [
    "path = \"/Users/rubyli/Desktop/GitHubRepos/UoM/NLP-Distributional-Semantics-Neural-Network-for-Classifying-Product-Reviews/product_reviews\"\n",
    "\n",
    "# Reading documents\n",
    "res = read_data(path)\n",
    "raw_tag, raw_text = get_raw_data(res)\n",
    "# Pre-process the texts and labels\n",
    "labels, texts = get_review_label(raw_tag, raw_text)"
   ]
  },
  {
   "cell_type": "code",
   "execution_count": 4,
   "id": "df7d95f3-6c00-42f4-b9c9-fceb4474a315",
   "metadata": {},
   "outputs": [
    {
     "name": "stdout",
     "output_type": "stream",
     "text": [
      "Tags: \n",
      " [['+3'], ['-2'], ['-2'], ['-2'], ['+2'], ['+3'], ['+2', '+2'], ['+3'], ['+2'], ['+3']]\n",
      "Texts: \n",
      " [\"I love that you don't have to purchase expensive refills.\", 'The cons, at times the diaper wipes get stuck in the disposal area making it hard to turn the handle back and forth.', \"In addition, I don't believe that it is odorless.\", 'My daughter is only 4 months old and we do notice an odor.', 'If I had to do it over again, even with the cost savings of using any type of bag, I would go w/ the Diaper Genie.', \"It's far better than all others on the market.\", \"it's easier and much more convenient to use because it doesn't have CLUMSY and CONFUSING (not to mention expensive) refills.\", 'There is no odor and extremely easy to use.', '1. It uses regular garbage bags instead of brand refills.', '3. It never smelled - at all.']\n"
     ]
    }
   ],
   "source": [
    "print(\"Tags: \\n\",raw_tag[10:20])\n",
    "print(\"Texts: \\n\",raw_text[10:20])"
   ]
  },
  {
   "cell_type": "code",
   "execution_count": 5,
   "id": "5fd90da8-3fb8-4c0a-827d-a0dfcf4ead10",
   "metadata": {},
   "outputs": [
    {
     "name": "stdout",
     "output_type": "stream",
     "text": [
      "Labels: \n",
      " 1\n",
      "Texts: \n",
      " ['even', 'cost', 'saving', 'using', 'type', 'bag', 'would', 'go', 'w', 'diaper', 'genie']\n"
     ]
    }
   ],
   "source": [
    "print(\"Labels: \\n\",labels[14])\n",
    "# print(\"Raw Tags: \\n\",raw_tag[14])\n",
    "# print(\"Raw Texts: \\n\",raw_text[14])\n",
    "print(\"Texts: \\n\",texts[14])"
   ]
  },
  {
   "cell_type": "markdown",
   "id": "a7bbf877-ad4c-471b-aa41-61fba125480e",
   "metadata": {},
   "source": [
    "# Get encoded review"
   ]
  },
  {
   "cell_type": "code",
   "execution_count": 6,
   "id": "960bb588-e565-45ec-9583-7255164c6af6",
   "metadata": {},
   "outputs": [
    {
     "name": "stdout",
     "output_type": "stream",
     "text": [
      "[[115, 154, 28, 11, 16, 62], [42, 17, 5, 128, 108, 51], [1, 22, 2, 108, 190, 13, 62, 14], [25, 2, 19, 7, 1, 28, 42, 12, 24, 43, 19], [108, 51, 53, 23], [1, 62, 14, 43], [190, 15, 1, 2, 2, 62, 2, 18, 190, 62, 1, 24], [34, 1, 5, 108, 3, 5], [5, 28, 35, 30, 28], [42, 77, 15, 108, 17, 5, 1, 13, 93, 42]]\n"
     ]
    }
   ],
   "source": [
    "encoded_reviews = get_encoded_reviews(texts)\n",
    "print(encoded_reviews[:10])"
   ]
  },
  {
   "cell_type": "markdown",
   "id": "7788cdda-93a5-42da-aa28-cf22fcd27ec4",
   "metadata": {},
   "source": [
    "# Padding"
   ]
  },
  {
   "cell_type": "code",
   "execution_count": 7,
   "id": "0600f5ed-1cb8-4ab7-8452-eaae500b27cc",
   "metadata": {},
   "outputs": [
    {
     "data": {
      "image/png": "[encoded data removed]",
      "text/plain": [
       "<Figure size 640x480 with 1 Axes>"
      ]
     },
     "metadata": {},
     "output_type": "display_data"
    },
    {
     "data": {
      "text/plain": [
       "count    2138.000000\n",
       "mean        8.902713\n",
       "std         5.399257\n",
       "min         0.000000\n",
       "25%         5.000000\n",
       "50%         8.000000\n",
       "75%        11.000000\n",
       "max        48.000000\n",
       "dtype: float64"
      ]
     },
     "execution_count": 7,
     "metadata": {},
     "output_type": "execute_result"
    }
   ],
   "source": [
    "reviews_len = [len(x) for x in encoded_reviews]\n",
    "pd.Series(reviews_len).hist()\n",
    "plt.show()\n",
    "pd.Series(reviews_len).describe()"
   ]
  },
  {
   "cell_type": "code",
   "execution_count": 10,
   "id": "b491caf6-b0bc-48fb-90bd-858cc71fd967",
   "metadata": {},
   "outputs": [
    {
     "name": "stdout",
     "output_type": "stream",
     "text": [
      "[[  0   0   0 ...  11  16  62]\n",
      " [  0   0   0 ... 128 108  51]\n",
      " [  0   0   0 ...  13  62  14]\n",
      " ...\n",
      " [  0   0   0 ...  24   2  17]\n",
      " [  0   0   0 ...   4  40   5]\n",
      " [  0   0   0 ...   2  46  35]]\n"
     ]
    }
   ],
   "source": [
    "squence_len = 30\n",
    "features = pad_features(encoded_reviews, squence_len)\n",
    "print(features)"
   ]
  },
  {
   "cell_type": "markdown",
   "id": "d632a688-72ac-47f1-9c30-f972e18df278",
   "metadata": {},
   "source": [
    "# Split data into training data and testing data"
   ]
  },
  {
   "cell_type": "code",
   "execution_count": 11,
   "id": "a7cbb783-3ccb-446e-84c2-1cc79eae6dfa",
   "metadata": {},
   "outputs": [
    {
     "name": "stdout",
     "output_type": "stream",
     "text": [
      "Text_train: [[  0   0   0   0   0   0   0   0   0   0   0   0   0   0   0   0   0   0\n",
      "    0   0   0   0   0   0   0   0   8  33   1   1]\n",
      " [  0   0   0   0   0   0   0   0   0   0  37  15   1  32  18 115  88  16\n",
      "   19  35 137   5 114  77  17  44   1   1  15  41]\n",
      " [  0   0   0   0   0   0   0   0   0   0   0   0   0   0   0   0  13  42\n",
      "    3  18  18  12  38  27   3  25   2   3  13   2]\n",
      " [  0   0   0   0   0   0   0   0   0   0   0   0   0   0   0   0   0   0\n",
      "    0   0   0   0   0   0  34   6   6  26   2  20]\n",
      " [  0   0   0   0   0   0   0   0   0   0   0   0   0   0   0   0   0   0\n",
      "    0   0   0   0   0   0   0   0   0 169   1  17]]\n",
      "\n",
      " labels_train: [1, 1, 1, 0, 1]\n",
      "\n",
      "\n",
      " texts_test: [[  0   0   0   0   0   0   0   0   0   0   0   0   0   0   0   0  50   5\n",
      "   53 190   3  12   4   7 190   7   2  21  32   9]\n",
      " [  0   0   0   0   0   0   0   0   0   0   0   0   0   0   0   0   0   0\n",
      "    0  28  25   4   5  72  12  12  12  16  88  12]\n",
      " [  0   0   0   0   0   0   0   0   0   0 183   6   1   4  72  62   3   3\n",
      "    2 137 108  27  72  32   6   1  62  73  47  20]\n",
      " [  0   0   0   0   0   0   0   0   0   0   0   0   0   0   0   0   0   0\n",
      "    0   0   0  88 190  21   2   1   1  21 122  28]\n",
      " [  0   0   0   0   0   0   0   0   0   0   0   0   0   0   0   0   0   0\n",
      "    0   0 154 169  17   3  25  16   4  21   5   1]]\n",
      "\n",
      " labels_test: [1, 1, 0, 1, 1] \n"
     ]
    }
   ],
   "source": [
    "# split data into training data and testing data\n",
    "texts_train, texts_test, labels_train, labels_test = train_test_split(features, labels, stratify=labels)\n",
    "print(f\"Text_train: {texts_train[:5]}\\n\\n labels_train: {labels_train[:5]}\\n\\n\\n texts_test: {texts_test[:5]}\\n\\n labels_test: {labels_test[:5]} \")"
   ]
  },
  {
   "cell_type": "code",
   "execution_count": null,
   "id": "9b939c90-16a9-4645-92bb-5d2fbb31d3ad",
   "metadata": {},
   "outputs": [],
   "source": []
  },
  {
   "cell_type": "code",
   "execution_count": null,
   "id": "74154607-467b-40bb-9dbd-9610abc5c1c0",
   "metadata": {},
   "outputs": [],
   "source": []
  }
 ],
 "metadata": {
  "kernelspec": {
   "display_name": "Python 3 (ipykernel)",
   "language": "python",
   "name": "python3"
  },
  "language_info": {
   "codemirror_mode": {
    "name": "ipython",
    "version": 3
   },
   "file_extension": ".py",
   "mimetype": "text/x-python",
   "name": "python",
   "nbconvert_exporter": "python",
   "pygments_lexer": "ipython3",
   "version": "3.9.13"
  }
 },
 "nbformat": 4,
 "nbformat_minor": 5
}
