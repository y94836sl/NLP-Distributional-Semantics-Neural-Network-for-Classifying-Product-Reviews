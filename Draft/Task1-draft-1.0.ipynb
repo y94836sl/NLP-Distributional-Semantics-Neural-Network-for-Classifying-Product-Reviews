{
 "cells": [
  {
   "cell_type": "code",
   "execution_count": 1,
   "id": "be41c655",
   "metadata": {},
   "outputs": [
    {
     "name": "stderr",
     "output_type": "stream",
     "text": [
      "[nltk_data] Downloading package stopwords to\n",
      "[nltk_data]     /Users/rubyli/nltk_data...\n",
      "[nltk_data]   Package stopwords is already up-to-date!\n",
      "[nltk_data] Downloading package wordnet to /Users/rubyli/nltk_data...\n",
      "[nltk_data]   Package wordnet is already up-to-date!\n",
      "[nltk_data] Downloading package omw-1.4 to /Users/rubyli/nltk_data...\n",
      "[nltk_data]   Package omw-1.4 is already up-to-date!\n"
     ]
    }
   ],
   "source": [
    "from nltk.corpus.reader.wordnet import Lemma\n",
    "import nltk\n",
    "from nltk import FreqDist\n",
    "nltk.download('stopwords')\n",
    "nltk.download('wordnet')\n",
    "nltk.download('omw-1.4')\n",
    "# For file reading\n",
    "import os\n",
    "from os import listdir\n",
    "# For pre-processing \n",
    "from nltk import word_tokenize\n",
    "from nltk.tokenize import punkt\n",
    "from nltk.corpus import stopwords\n",
    "from nltk.stem.wordnet import WordNetLemmatizer\n",
    "from nltk.stem import PorterStemmer\n",
    "import re\n",
    "import string\n",
    "import time\n",
    "\n",
    "from collections import Counter\n",
    "import numpy as np\n",
    "from sklearn.cluster import KMeans\n"
   ]
  },
  {
   "cell_type": "markdown",
   "id": "85e4e155-2070-4b3e-ac7b-59e70c37ceb5",
   "metadata": {},
   "source": [
    "# Task 1 - Step 1 - Pre-processing words and get top 50 frequent words"
   ]
  },
  {
   "cell_type": "code",
   "execution_count": 2,
   "id": "90bad112-f093-4a91-9de6-e67a56cdc5da",
   "metadata": {},
   "outputs": [],
   "source": [
    "def read_data(path: str) -> list:\n",
    "    \"\"\" Read files from a directory and then append the data of each file into a list. \"\"\"\n",
    "    folder = listdir(path)\n",
    "    res = []\n",
    "    for files in folder:\n",
    "        # check if current path is a file\n",
    "        if files != \"README.txt\":\n",
    "            filePath = os.path.join(path, files)\n",
    "            if os.path.isfile(filePath):\n",
    "                with open(filePath, \"r\") as file:\n",
    "                    lines = file.readlines()\n",
    "                res.append(lines)\n",
    "    return res"
   ]
  },
  {
   "cell_type": "code",
   "execution_count": 3,
   "id": "3b16391c-fc5b-4834-a729-2035782bee34",
   "metadata": {},
   "outputs": [
    {
     "name": "stdout",
     "output_type": "stream",
     "text": [
      "['[t]\\n', 'Works[+3]##Works great, no odor, and uses regular bags.\\n', \"##Can't complain at all!\\n\", '[t]\\n', \"Diaper Champ[+2]##So far (3 weeks), we've had no problems with the Diaper Champ at all.\\n\"]\n"
     ]
    }
   ],
   "source": [
    "path = \"/Users/rubyli/Desktop/GitHubRepos/UoM/NLP-Distributional-Semantics-Neural-Network-for-Classifying-Product-Reviews/product_reviews\"\n",
    "res = read_data(path)\n",
    "doc = \"\"\n",
    "for a in res:\n",
    "    for b in a:\n",
    "        doc += b\n",
    "print(res[0][:5])\n",
    "# print(doc)"
   ]
  },
  {
   "cell_type": "code",
   "execution_count": 4,
   "id": "ac9c38aa-5974-4136-9dc0-0996730a0158",
   "metadata": {},
   "outputs": [],
   "source": [
    "from nltk import word_tokenize\n",
    "def process_document(document: str) -> list:\n",
    "        \"\"\" pre-process a document and return a list of its terms: str->list\"\"\"\n",
    "        \n",
    "        # Remove number\n",
    "        text_nonum = re.sub(r'\\d+', ' ', document)\n",
    "        \n",
    "        pattern = r'''(?x)        # set flag to allow verbose regexps\n",
    "                    (?:[A-Z]\\.)+     #abbreviations\n",
    "                    |\\[\n",
    "                    |[^\\w\\s]\n",
    "                    |\\#\n",
    "                    |[-.(]+           #double hyphen, ellipsis, open parenthesis\n",
    "                    |\\S\\w*\n",
    "                    |\\$?\\d+(?:\\.\\d+)?%? #currency and percentages\n",
    "        '''\n",
    "        #Tokenization\n",
    "        tokenList = nltk.regexp_tokenize(text_nonum, pattern)\n",
    "        #To lower case\n",
    "        tokenList = [word.lower() for word in tokenList]\n",
    "        #Remove Punctuation\n",
    "        tokenList = list(filter(lambda word: punkt.PunktToken(word).is_non_punct,tokenList))\n",
    "        #Remove stopwords\n",
    "        stopW = stopwords.words(\"english\")\n",
    "        stopW.append(\"u\")\n",
    "        stopW.append(\"p\")\n",
    "        # stopW.append(\"mp\")\n",
    "        tokenList = list(filter(lambda word: word not in stopW,tokenList))\n",
    "        # Lemmatisation \n",
    "        lemma = WordNetLemmatizer()\n",
    "        tokenList = [lemma.lemmatize(word) for word in tokenList]\n",
    "\n",
    "        return tokenList \n",
    "    \n",
    "#     text = document.lower()\n",
    "    \n",
    "#     # remove numbers\n",
    "#     text_nonum = re.sub(r'\\d+', ' ', text)\n",
    "    \n",
    "#     text_p = \"\".join([char for char in text_nonum if char not in string.punctuation])\n",
    "    \n",
    "#     words = word_tokenize(text_p)\n",
    "    \n",
    "#     stop_words = stopwords.words('english')\n",
    "#     stop_words.append(\"im\")\n",
    "#     stop_words.append(\"ive\")\n",
    "    \n",
    "#     filtered_words = [word for word in words if word not in stop_words]\n",
    "    \n",
    "#     lemma = WordNetLemmatizer()\n",
    "#     tokenList = [lemma.lemmatize(word) for word in filtered_words]\n",
    "    \n",
    "#     return tokenList\n",
    "    "
   ]
  },
  {
   "cell_type": "code",
   "execution_count": 5,
   "id": "12a71a40-da8f-4936-bafd-83e35e2a3369",
   "metadata": {},
   "outputs": [
    {
     "name": "stdout",
     "output_type": "stream",
     "text": [
      "['work', 'work', 'great', 'odor', 'us', 'regular', 'bag', 'complain', 'diaper', 'champ', 'far', 'week', 'problem', 'diaper', 'champ', 'diaper', 'contains', 'smell', 'baby', 'diaper', 'use', 'kind', 'bag', 'inside', 'also', 'sprinkled', 'baking', 'soda', 'bottom', 'diaper', 'champ', 'help', 'absorb', 'odor', 'every', 'awhile', 'empty', 'old', 'baking', 'soda', 'replace', 'odor', 'refill', 'know', 'run', 'trouble', 'road', 'odor', 'far', 'complaint']\n"
     ]
    }
   ],
   "source": [
    "producedDoc = process_document(doc)\n",
    "print(producedDoc[:50])"
   ]
  },
  {
   "cell_type": "code",
   "execution_count": 6,
   "id": "c709f15f-5a31-4ddb-808f-dad1f7c52a1f",
   "metadata": {},
   "outputs": [
    {
     "data": {
      "text/plain": [
       "FreqDist({'use': 353, 'phone': 351, 'one': 337, 'router': 337, 'ipod': 329, 'camera': 322, 'player': 313, 'get': 274, 'battery': 264, 'diaper': 231, ...})"
      ]
     },
     "execution_count": 6,
     "metadata": {},
     "output_type": "execute_result"
    }
   ],
   "source": [
    "# Find the 50 most frequently occurred words\n",
    "# Get the frequency of each word\n",
    "word_frequencies = FreqDist(producedDoc)\n",
    "word_frequencies"
   ]
  },
  {
   "cell_type": "code",
   "execution_count": 7,
   "id": "aeaebacc-04e8-4736-96ad-2b5a34c19981",
   "metadata": {},
   "outputs": [
    {
     "name": "stdout",
     "output_type": "stream",
     "text": [
      "['use', 'phone', 'one', 'router', 'ipod', 'camera', 'player', 'get', 'battery', 'diaper', 'product', 'work', 'like', 'great', 'time', 'feature', 'problem', 'good', 'quality', 'zen', 'would', 'also', 'sound', 'computer', 'software', 'picture', 'well', 'really', 'micro', 'take', 'easy', 'thing', 'even', 'first', 'used', 'need', 'creative', 'bag', 'much', 'want', 'better', 'champ', 'mp', 'look', 'go', 'size', 'music', 'norton', 'little', 'price']\n"
     ]
    }
   ],
   "source": [
    "# Sort the dictionary by frequency\n",
    "sorted_frequencies = sorted(word_frequencies.items(), key=lambda item: item[1], reverse=True)\n",
    "\n",
    "# Select the top 50 words\n",
    "target_words = [item[0] for item in sorted_frequencies[:50]]\n",
    "print(target_words)"
   ]
  },
  {
   "cell_type": "markdown",
   "id": "65b02ead-22ba-486c-bae0-f2e48d1d4693",
   "metadata": {},
   "source": [
    "# Task 1 - Step 2 - Sample and Pseudowords"
   ]
  },
  {
   "cell_type": "code",
   "execution_count": 8,
   "id": "8ebc9d86-d798-47f8-b6de-f0cf440a288c",
   "metadata": {},
   "outputs": [],
   "source": [
    "import random\n",
    "\n",
    "# Sample half of the target words\n",
    "sample_size = len(target_words) // 2\n",
    "sample = random.sample(target_words, sample_size)\n",
    "# Create pseudowords for the sampled target words\n",
    "madeups = [word[::-1] for word in sample]\n",
    "# Replace the sampled occurrences of the target words with their pseudowords\n",
    "pseudowords = target_words[:]\n",
    "for i, word in enumerate(target_words):\n",
    "    if word in sample:\n",
    "        # Find the index of the word to be replace\n",
    "        replacement_index = sample.index(word)\n",
    "        # Replace the word with the corresponding word from the replacement list\n",
    "        pseudowords[i] = madeups[replacement_index]"
   ]
  },
  {
   "cell_type": "code",
   "execution_count": 9,
   "id": "f25ede56-b821-4fac-90b3-21ff7aba49e5",
   "metadata": {},
   "outputs": [
    {
     "name": "stdout",
     "output_type": "stream",
     "text": [
      "['esu', 'enohp', 'eno', 'router', 'ipod', 'camera', 'reyalp', 'teg', 'battery', 'diaper', 'tcudorp', 'work', 'like', 'taerg', 'emit', 'feature', 'melborp', 'good', 'quality', 'zen', 'dluow', 'also', 'sound', 'retupmoc', 'software', 'erutcip', 'llew', 'yllaer', 'micro', 'take', 'ysae', 'gniht', 'neve', 'first', 'used', 'deen', 'creative', 'gab', 'hcum', 'want', 'retteb', 'pmahc', 'mp', 'look', 'og', 'ezis', 'music', 'norton', 'little', 'ecirp']\n"
     ]
    }
   ],
   "source": [
    "print(pseudowords)"
   ]
  },
  {
   "cell_type": "markdown",
   "id": "14119467-822c-4ef7-ba01-fd2fb28599b8",
   "metadata": {},
   "source": [
    "# Task 1 - Step 3 - Feature Vector"
   ]
  },
  {
   "cell_type": "code",
   "execution_count": 10,
   "id": "252ed61c-f1a1-42f2-8420-2a0823d89150",
   "metadata": {},
   "outputs": [
    {
     "name": "stdout",
     "output_type": "stream",
     "text": [
      "100\n"
     ]
    }
   ],
   "source": [
    "# Create a corpus containing the target words and pseudowords\n",
    "corpus = target_words + pseudowords\n",
    "print(len(corpus))"
   ]
  },
  {
   "cell_type": "code",
   "execution_count": 11,
   "id": "0ccd0aec-9e36-44ec-9591-dd4976bdc9cf",
   "metadata": {},
   "outputs": [],
   "source": [
    "def word_count(str):\n",
    "    counts = dict()\n",
    "    words = str.split()\n",
    "    for word in words:\n",
    "        if word in counts:\n",
    "            counts[word] += 1\n",
    "        else:\n",
    "            counts[word] = 1\n",
    "    return counts"
   ]
  },
  {
   "cell_type": "code",
   "execution_count": 12,
   "id": "4c2a8394-146d-49a2-b63a-feef0e1642fa",
   "metadata": {},
   "outputs": [
    {
     "name": "stdout",
     "output_type": "stream",
     "text": [
      "['[t]\\n', 'Works[+3]##Works great, no odor, and uses regular bags.\\n', \"##Can't complain at all!\\n\", '[t]\\n']\n"
     ]
    }
   ],
   "source": [
    "# Get all the sentences in all documents\n",
    "sentences = []\n",
    "for doc in res:\n",
    "    for sen in doc:\n",
    "        sentences.append(sen)\n",
    "\n",
    "print(sentences[:4])"
   ]
  },
  {
   "cell_type": "code",
   "execution_count": 13,
   "id": "1dae0463-b1fd-468c-87cb-064b109eee07",
   "metadata": {},
   "outputs": [
    {
     "name": "stdout",
     "output_type": "stream",
     "text": [
      "[{}, {'work': 2, 'great': 1, 'odor': 1, 'us': 1, 'regular': 1, 'bag': 1}, {'complain': 1}, {}, {'diaper': 2, 'champ': 2, 'far': 1, 'week': 1, 'problem': 1}, {'diaper': 2, 'contains': 1, 'smell': 1, 'baby': 1, 'use': 1, 'kind': 1, 'bag': 1, 'inside': 1}, {'also': 1, 'sprinkled': 1, 'baking': 2, 'soda': 2, 'bottom': 1, 'diaper': 1, 'champ': 1, 'help': 1, 'absorb': 1, 'odor': 1, 'every': 1, 'awhile': 1, 'empty': 1, 'old': 1, 'replace': 1}, {'odor': 2, 'refill': 2, 'know': 1, 'run': 1, 'trouble': 1, 'road': 1, 'far': 1, 'complaint': 1, 'happy': 1, 'buy': 1}, {}, {'started': 1, 'diaper': 1, 'genie': 1, 'new': 1, 'parent': 1}]\n"
     ]
    }
   ],
   "source": [
    "# Loop through each sentence and count the frequency of each word\n",
    "from collections import Counter\n",
    "\n",
    "sen_count = []\n",
    "for i, sentence in enumerate(sentences):\n",
    "    counts = dict()\n",
    "    words = process_document(sentence)\n",
    "    for word in words:\n",
    "        if word in counts:\n",
    "            counts[word] += 1\n",
    "        else:\n",
    "            counts[word] = 1\n",
    "    sen_count.append(counts)\n",
    "print(sen_count[:10])"
   ]
  },
  {
   "cell_type": "code",
   "execution_count": 14,
   "id": "a341e54d-d36f-4c62-a245-b0c5f9218d0b",
   "metadata": {},
   "outputs": [
    {
     "name": "stdout",
     "output_type": "stream",
     "text": [
      "[0 0 0 0 0 0 1 0 2 0 0 0 0 0 0 0 0 0 0 0]\n"
     ]
    }
   ],
   "source": [
    "import numpy as np\n",
    "\n",
    "# Construct Nxd array based on the word-sentence frequency\n",
    "pre_M = []\n",
    "for word in corpus:\n",
    "    word_freq = []\n",
    "    for sentence in sen_count:\n",
    "        tempfreq = sentence.get(word)\n",
    "        if tempfreq != None:\n",
    "            word_freq.append(tempfreq)\n",
    "        else:\n",
    "            word_freq.append(0)\n",
    "    pre_M.append(word_freq)\n",
    "M = np.array(pre_M)\n",
    "print(M[0][30:50])"
   ]
  },
  {
   "cell_type": "code",
   "execution_count": 15,
   "id": "2bd7c7cc-245f-4f7d-b903-cd30780e2946",
   "metadata": {},
   "outputs": [
    {
     "name": "stdout",
     "output_type": "stream",
     "text": [
      "(100, 4584)\n"
     ]
    }
   ],
   "source": [
    "print(M.shape)"
   ]
  },
  {
   "cell_type": "code",
   "execution_count": 32,
   "id": "1faccfad-1dac-47e0-83fc-da155792456d",
   "metadata": {},
   "outputs": [
    {
     "name": "stdout",
     "output_type": "stream",
     "text": [
      "<class 'numpy.ndarray'>\n"
     ]
    }
   ],
   "source": [
    "print(type(M))"
   ]
  },
  {
   "cell_type": "code",
   "execution_count": 33,
   "id": "0f827dd0-89f9-4d3a-8ab8-f84d70b64731",
   "metadata": {},
   "outputs": [],
   "source": [
    "def featureVector(target_words: list, pseudowords: list, res: list) -> np.array:\n",
    "    \n",
    "    # Create a corpus containing the target words and pseudowords\n",
    "    corpus = target_words + pseudowords\n",
    "    \n",
    "    # Get all the sentences in all documents\n",
    "    sentences = []\n",
    "    for doc in res:\n",
    "        for sen in doc:\n",
    "            sentences.append(sen)\n",
    "    \n",
    "    # Loop through each sentence and count the frequency of each word\n",
    "    sen_count = []\n",
    "    for i, sentence in enumerate(sentences):\n",
    "        counts = dict()\n",
    "        words = process_document(sentence)\n",
    "        for word in words:\n",
    "            if word in counts:\n",
    "                counts[word] += 1\n",
    "            else:\n",
    "                counts[word] = 1\n",
    "        sen_count.append(counts)\n",
    "        \n",
    "    # Construct Nxd array based on the word-sentence frequency\n",
    "    pre_M = []\n",
    "    for word in corpus:\n",
    "        word_freq = []\n",
    "        for sentence in sen_count:\n",
    "            tempfreq = sentence.get(word)\n",
    "            if tempfreq != None:\n",
    "                word_freq.append(tempfreq)\n",
    "            else:\n",
    "                word_freq.append(0)\n",
    "        pre_M.append(word_freq)\n",
    "    M = np.array(pre_M)\n",
    "    # svd\n",
    "    u,s,v = np.linalg.svd(M)\n",
    "    M = np.dot(u, np.diag(s))\n",
    "    \n",
    "    # normalization\n",
    "    M = M / np.linalg.norm(M, axis=1)[:, None]\n",
    "    \n",
    "    \n",
    "    return M\n"
   ]
  },
  {
   "cell_type": "code",
   "execution_count": 34,
   "id": "95e30091-3dd8-4d55-bd7a-42b668549f15",
   "metadata": {},
   "outputs": [
    {
     "name": "stdout",
     "output_type": "stream",
     "text": [
      "[[ 2.94517363e-01 -1.09916877e-01  1.09754768e-01 ... -1.19649893e-57\n",
      "   8.56668817e-57  0.00000000e+00]\n",
      " [ 1.86513270e-01  6.82420224e-02  4.01085331e-02 ...  6.39723485e-52\n",
      "   1.82490552e-51  0.00000000e+00]\n",
      " [ 2.86161762e-01 -1.20454719e-01  6.98359679e-02 ...  1.45793383e-51\n",
      "  -1.34945098e-50  0.00000000e+00]\n",
      " ...\n",
      " [ 3.26530072e-02 -1.78876092e-02  1.12007960e-02 ...  2.37221014e-42\n",
      "  -1.44430190e-41  0.00000000e+00]\n",
      " [ 1.22920048e-01  2.86932862e-02  3.87232786e-02 ...  1.41558380e-41\n",
      "  -8.53435940e-41  0.00000000e+00]\n",
      " [ 0.00000000e+00  0.00000000e+00  0.00000000e+00 ...  0.00000000e+00\n",
      "   0.00000000e+00  1.00000000e+00]]\n"
     ]
    }
   ],
   "source": [
    "M = featureVector(target_words, pseudowords, res)\n",
    "print(M)"
   ]
  },
  {
   "cell_type": "markdown",
   "id": "6f6f46b9-8301-4bd9-b036-98a5d52c2c29",
   "metadata": {},
   "source": [
    "# Task 1 - Step 4 - input matrix X put them into 50 cluster"
   ]
  },
  {
   "cell_type": "code",
   "execution_count": 35,
   "id": "cc89e1dc-c92a-4f65-8f37-5cfb6398fa9e",
   "metadata": {},
   "outputs": [],
   "source": [
    "# import nltk\n",
    "# from nltk.cluster import KMeansClusterer\n",
    "\n",
    "# X = M\n",
    "# # Set the number of clusters to 50\n",
    "# num_clusters = 50\n",
    "\n",
    "# # Create a KMeansClusterer instance with the specified number of clusters\n",
    "# clusterer = KMeansClusterer(num_clusters, distance=nltk.cluster.util.cosine_distance, avoid_empty_clusters=True)\n",
    "\n",
    "# # Cluster the words using the feature matrix\n",
    "# clusters = clusterer.cluster(X, assign_clusters=True)\n",
    "\n",
    "# # Print the cluster assignments for each word\n",
    "# for i, cluster in enumerate(clusters):\n",
    "#     print(f\"Word {i+1} is in cluster {cluster}.\")"
   ]
  },
  {
   "cell_type": "code",
   "execution_count": 36,
   "id": "09779a14-e6aa-4fc6-ac4a-095a01cb3d62",
   "metadata": {},
   "outputs": [],
   "source": [
    "from sklearn.cluster import KMeans\n",
    "\n",
    "# X = M\n",
    "\n",
    "# # Set the number of clusters to 50\n",
    "# num_clusters = 50\n",
    "\n",
    "# # Create a KMeans instance with the specified number of clusters\n",
    "# kmeans = KMeans(n_clusters=num_clusters, n_init=10, max_iter=300, tol=1e-04, random_state=0)\n",
    "\n",
    "# # Cluster the words using the feature matrix\n",
    "# clusters = kmeans.fit_predict(X)\n",
    "\n",
    "# visualClusters = {}\n",
    "# # Print the cluster assignments for each word\n",
    "# for i, cluster in enumerate(clusters):\n",
    "# #    print(f\"Word {i+1} is in cluster {cluster}.\")\n",
    "#     visualClusters[corpus[i]] = cluster"
   ]
  },
  {
   "cell_type": "code",
   "execution_count": 37,
   "id": "4d93060f-3ee7-4d03-8c28-8ef051ed5d0a",
   "metadata": {},
   "outputs": [],
   "source": [
    "# def getCluster(X: np.array) -> dict:\n",
    "#     # Set the number of clusters to 50\n",
    "#     num_clusters = 50\n",
    "\n",
    "#     # Create a KMeans instance with the specified number of clusters\n",
    "#     kmeans = KMeans(n_clusters=num_clusters, n_init=10, max_iter=300, tol=1e-04, random_state=0)\n",
    "\n",
    "#     # Cluster the words using the feature matrix\n",
    "#     clusters = kmeans.fit_predict(X)\n",
    "\n",
    "#     visualClusters = {}\n",
    "#     # Print the cluster assignments for each word\n",
    "#     for i, cluster in enumerate(clusters):\n",
    "#     #    print(f\"Word {i+1} is in cluster {cluster}.\")\n",
    "#         visualClusters[corpus[i]] = cluster\n",
    "#     return visualClusters"
   ]
  },
  {
   "cell_type": "code",
   "execution_count": 38,
   "id": "d09403be-61c9-45f9-a0a2-c2fffe06fcef",
   "metadata": {},
   "outputs": [],
   "source": [
    "def getCluster(X: np.array) -> np.array:\n",
    "    # Set the number of clusters to 50\n",
    "    num_clusters = 50\n",
    "    \n",
    "    # Create a KMeans instance with the specified number of clusters\n",
    "    # kmeans = KMeans(n_clusters=num_clusters, n_init=10, max_iter=300, tol=1e-04, random_state=0)\n",
    "    km = KMeans(n_clusters=50).fit(X)\n",
    "    \n",
    "    # Cluster the words using the feature matrix\n",
    "    # clusters = km.fit_predict(X)\n",
    "    performance = []\n",
    "    \n",
    "    labels = km.labels_\n",
    "    labels.tolist()\n",
    "    performance.append((np.sum(labels[0:50] == labels[50:100])) / len(labels[0:50]))\n",
    "    print(\"target words: \" + str(labels[50:100]))\n",
    "    print(\"pesudo words: \" + str(labels[0:50]))\n",
    "    print(\"Performance: \" + str(performance[0]))\n",
    "        \n",
    "    return performance"
   ]
  },
  {
   "cell_type": "code",
   "execution_count": 39,
   "id": "a6c545fe-db42-45dc-aa54-4ab77295f7e9",
   "metadata": {},
   "outputs": [
    {
     "name": "stdout",
     "output_type": "stream",
     "text": [
      "target words: [34 45 40 12  9  6 29 39 24 15  0 17  8  0 19 16 26 27  4  3 42 25 28 38\n",
      "  1 35 36  0  3 23 33 21 31  5  2 30 32 44 48 11 41 44  7 10 22 49 22 13\n",
      " 18 14]\n",
      "pesudo words: [37 16  9 12  9  6  7  0 24 15 13 17  8 28 46 16 20 27  4  3  0 25 28  1\n",
      "  1 23 17  8  3 23 37  8  0  5  2  0 32 15 47 11 47 15  7 10 43 10 22 13\n",
      " 18 12]\n",
      "Performance: 0.5\n"
     ]
    },
    {
     "data": {
      "text/plain": [
       "[0.5]"
      ]
     },
     "execution_count": 39,
     "metadata": {},
     "output_type": "execute_result"
    }
   ],
   "source": [
    "getCluster(M)"
   ]
  },
  {
   "cell_type": "code",
   "execution_count": 40,
   "id": "b4434a48-8569-40b6-93bf-0cc88004d7b1",
   "metadata": {},
   "outputs": [
    {
     "name": "stdout",
     "output_type": "stream",
     "text": [
      "(100, 100)\n"
     ]
    }
   ],
   "source": [
    "print(M.shape)"
   ]
  },
  {
   "cell_type": "code",
   "execution_count": 41,
   "id": "24c24c59-9e22-4915-8797-1192a1240879",
   "metadata": {},
   "outputs": [
    {
     "name": "stdout",
     "output_type": "stream",
     "text": [
      "target words: [49 45 29 13  4  3 18 34 17 11 40  8 25 46 26  9 33 43  6  1 35 21  5  7\n",
      " 12  7 37  0  1 23 31 42 30 22  0 39 20 38 47 14 16 32 41 15 27 36  2 24\n",
      " 19 10]\n",
      "pesudo words: [28  9  4 13  4  3  7 44 17 11 24  8 25  5  0  9  7 43  6  1 44 21  5 12\n",
      " 12 23  8 25  1 23 28 25 44 22  0 44 20 11 48 14 48 11 41 15  7 15  2 24\n",
      " 19 13]\n",
      "Performance: 0.5\n",
      "[0.5]\n"
     ]
    }
   ],
   "source": [
    "clust = getCluster(M)\n",
    "print(clust)"
   ]
  },
  {
   "cell_type": "markdown",
   "id": "e2531614-b026-46e5-b3eb-9d1392bd0c7b",
   "metadata": {},
   "source": [
    "# Task 1 - Step 5"
   ]
  },
  {
   "cell_type": "code",
   "execution_count": 26,
   "id": "f3c8e302-2700-4375-9dd2-410bae6d0d6b",
   "metadata": {},
   "outputs": [],
   "source": [
    "# target_cluster = clust[:50]\n",
    "# pseudo_cluster = clust[50:]\n",
    "# print(target_cluster,len(target_cluster),\"\\n\",pseudo_cluster, len(pseudo_cluster))"
   ]
  },
  {
   "cell_type": "code",
   "execution_count": 27,
   "id": "dab61d18-3e35-4c02-ba8d-c38ddfad6b8a",
   "metadata": {},
   "outputs": [
    {
     "name": "stdout",
     "output_type": "stream",
     "text": [
      "['esu', 'enohp', 'eno', 'router', 'ipod', 'camera', 'reyalp', 'teg', 'battery', 'diaper', 'tcudorp', 'work', 'like', 'taerg', 'emit', 'feature', 'melborp', 'good', 'quality', 'zen', 'dluow', 'also', 'sound', 'retupmoc', 'software', 'erutcip', 'llew', 'yllaer', 'micro', 'take', 'ysae', 'gniht', 'neve', 'first', 'used', 'deen', 'creative', 'gab', 'hcum', 'want', 'retteb', 'pmahc', 'mp', 'look', 'og', 'ezis', 'music', 'norton', 'little', 'ecirp'] 50\n"
     ]
    }
   ],
   "source": [
    "print(pseudowords, len(pseudowords))"
   ]
  },
  {
   "cell_type": "code",
   "execution_count": 28,
   "id": "375ceb0c-ca3f-4726-bc53-aac03726da7c",
   "metadata": {},
   "outputs": [
    {
     "name": "stdout",
     "output_type": "stream",
     "text": [
      "['use', 'phone', 'one', 'router', 'ipod', 'camera', 'player', 'get', 'battery', 'diaper', 'product', 'work', 'like', 'great', 'time', 'feature', 'problem', 'good', 'quality', 'zen', 'would', 'also', 'sound', 'computer', 'software', 'picture', 'well', 'really', 'micro', 'take', 'easy', 'thing', 'even', 'first', 'used', 'need', 'creative', 'bag', 'much', 'want', 'better', 'champ', 'mp', 'look', 'go', 'size', 'music', 'norton', 'little', 'price'] 50\n"
     ]
    }
   ],
   "source": [
    "print(target_words, len(target_words))"
   ]
  },
  {
   "cell_type": "code",
   "execution_count": 29,
   "id": "8bf29146-1dbd-4ef1-90b2-0f373c37cbe2",
   "metadata": {},
   "outputs": [],
   "source": [
    "# cluster_size = 50\n",
    "# temp_count = 0\n",
    "# for i in range(cluster_size):\n",
    "#     if(target_cluster[i] == pseudo_cluster[i]):\n",
    "#         temp_count += 1\n",
    "# p = temp_count/cluster_size\n",
    "# print(p)"
   ]
  },
  {
   "cell_type": "code",
   "execution_count": 30,
   "id": "9a75191e-fe7b-4209-9990-754b10976cf0",
   "metadata": {},
   "outputs": [],
   "source": [
    "# print(type(clust))"
   ]
  },
  {
   "cell_type": "code",
   "execution_count": 31,
   "id": "0ab31dc8-ec8f-4d60-84b4-89f7af9c7bb3",
   "metadata": {},
   "outputs": [],
   "source": [
    "# def getProbability(cluster: np.array) -> int:\n",
    "#     cluster_size = len(cluster) // 2 \n",
    "#     temp_count = 0\n",
    "#     for i in range(cluster_size):\n",
    "#         if(target_cluster[i] == pseudo_cluster[i]):\n",
    "#             temp_count += 1\n",
    "#     p = temp_count/cluster_size\n",
    "#     return p\n",
    "# getProbability(clust)"
   ]
  },
  {
   "cell_type": "code",
   "execution_count": null,
   "id": "f7d48a7c-292b-403f-8fb2-243e7275522f",
   "metadata": {},
   "outputs": [],
   "source": []
  }
 ],
 "metadata": {
  "kernelspec": {
   "display_name": "Python 3 (ipykernel)",
   "language": "python",
   "name": "python3"
  },
  "language_info": {
   "codemirror_mode": {
    "name": "ipython",
    "version": 3
   },
   "file_extension": ".py",
   "mimetype": "text/x-python",
   "name": "python",
   "nbconvert_exporter": "python",
   "pygments_lexer": "ipython3",
   "version": "3.9.13"
  }
 },
 "nbformat": 4,
 "nbformat_minor": 5
}
