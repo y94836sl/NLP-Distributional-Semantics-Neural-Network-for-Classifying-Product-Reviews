{
  "nbformat": 4,
  "nbformat_minor": 0,
  "metadata": {
    "colab": {
      "provenance": [],
      "collapsed_sections": [
        "atG3krT20mQl"
      ]
    },
    "kernelspec": {
      "name": "python3",
      "display_name": "Python 3"
    },
    "language_info": {
      "name": "python"
    }
  },
  "cells": [
    {
      "cell_type": "code",
      "execution_count": 198,
      "metadata": {
        "colab": {
          "base_uri": "https://localhost:8080/"
        },
        "id": "diPKerM9ydmv",
        "outputId": "9d047a84-eab1-4e82-9f0d-928f3cbb2bd3"
      },
      "outputs": [
        {
          "output_type": "stream",
          "name": "stderr",
          "text": [
            "[nltk_data] Downloading collection 'all'\n",
            "[nltk_data]    | \n",
            "[nltk_data]    | Downloading package abc to /root/nltk_data...\n",
            "[nltk_data]    |   Package abc is already up-to-date!\n",
            "[nltk_data]    | Downloading package alpino to /root/nltk_data...\n",
            "[nltk_data]    |   Package alpino is already up-to-date!\n",
            "[nltk_data]    | Downloading package averaged_perceptron_tagger to\n",
            "[nltk_data]    |     /root/nltk_data...\n",
            "[nltk_data]    |   Package averaged_perceptron_tagger is already up-\n",
            "[nltk_data]    |       to-date!\n",
            "[nltk_data]    | Downloading package averaged_perceptron_tagger_ru to\n",
            "[nltk_data]    |     /root/nltk_data...\n",
            "[nltk_data]    |   Package averaged_perceptron_tagger_ru is already\n",
            "[nltk_data]    |       up-to-date!\n",
            "[nltk_data]    | Downloading package basque_grammars to\n",
            "[nltk_data]    |     /root/nltk_data...\n",
            "[nltk_data]    |   Package basque_grammars is already up-to-date!\n",
            "[nltk_data]    | Downloading package bcp47 to /root/nltk_data...\n",
            "[nltk_data]    |   Package bcp47 is already up-to-date!\n",
            "[nltk_data]    | Downloading package biocreative_ppi to\n",
            "[nltk_data]    |     /root/nltk_data...\n",
            "[nltk_data]    |   Package biocreative_ppi is already up-to-date!\n",
            "[nltk_data]    | Downloading package bllip_wsj_no_aux to\n",
            "[nltk_data]    |     /root/nltk_data...\n",
            "[nltk_data]    |   Package bllip_wsj_no_aux is already up-to-date!\n",
            "[nltk_data]    | Downloading package book_grammars to\n",
            "[nltk_data]    |     /root/nltk_data...\n",
            "[nltk_data]    |   Package book_grammars is already up-to-date!\n",
            "[nltk_data]    | Downloading package brown to /root/nltk_data...\n",
            "[nltk_data]    |   Package brown is already up-to-date!\n",
            "[nltk_data]    | Downloading package brown_tei to /root/nltk_data...\n",
            "[nltk_data]    |   Package brown_tei is already up-to-date!\n",
            "[nltk_data]    | Downloading package cess_cat to /root/nltk_data...\n",
            "[nltk_data]    |   Package cess_cat is already up-to-date!\n",
            "[nltk_data]    | Downloading package cess_esp to /root/nltk_data...\n",
            "[nltk_data]    |   Package cess_esp is already up-to-date!\n",
            "[nltk_data]    | Downloading package chat80 to /root/nltk_data...\n",
            "[nltk_data]    |   Package chat80 is already up-to-date!\n",
            "[nltk_data]    | Downloading package city_database to\n",
            "[nltk_data]    |     /root/nltk_data...\n",
            "[nltk_data]    |   Package city_database is already up-to-date!\n",
            "[nltk_data]    | Downloading package cmudict to /root/nltk_data...\n",
            "[nltk_data]    |   Package cmudict is already up-to-date!\n",
            "[nltk_data]    | Downloading package comparative_sentences to\n",
            "[nltk_data]    |     /root/nltk_data...\n",
            "[nltk_data]    |   Package comparative_sentences is already up-to-\n",
            "[nltk_data]    |       date!\n",
            "[nltk_data]    | Downloading package comtrans to /root/nltk_data...\n",
            "[nltk_data]    |   Package comtrans is already up-to-date!\n",
            "[nltk_data]    | Downloading package conll2000 to /root/nltk_data...\n",
            "[nltk_data]    |   Package conll2000 is already up-to-date!\n",
            "[nltk_data]    | Downloading package conll2002 to /root/nltk_data...\n",
            "[nltk_data]    |   Package conll2002 is already up-to-date!\n",
            "[nltk_data]    | Downloading package conll2007 to /root/nltk_data...\n",
            "[nltk_data]    |   Package conll2007 is already up-to-date!\n",
            "[nltk_data]    | Downloading package crubadan to /root/nltk_data...\n",
            "[nltk_data]    |   Package crubadan is already up-to-date!\n",
            "[nltk_data]    | Downloading package dependency_treebank to\n",
            "[nltk_data]    |     /root/nltk_data...\n",
            "[nltk_data]    |   Package dependency_treebank is already up-to-date!\n",
            "[nltk_data]    | Downloading package dolch to /root/nltk_data...\n",
            "[nltk_data]    |   Package dolch is already up-to-date!\n",
            "[nltk_data]    | Downloading package europarl_raw to\n",
            "[nltk_data]    |     /root/nltk_data...\n",
            "[nltk_data]    |   Package europarl_raw is already up-to-date!\n",
            "[nltk_data]    | Downloading package extended_omw to\n",
            "[nltk_data]    |     /root/nltk_data...\n",
            "[nltk_data]    |   Package extended_omw is already up-to-date!\n",
            "[nltk_data]    | Downloading package floresta to /root/nltk_data...\n",
            "[nltk_data]    |   Package floresta is already up-to-date!\n",
            "[nltk_data]    | Downloading package framenet_v15 to\n",
            "[nltk_data]    |     /root/nltk_data...\n",
            "[nltk_data]    |   Package framenet_v15 is already up-to-date!\n",
            "[nltk_data]    | Downloading package framenet_v17 to\n",
            "[nltk_data]    |     /root/nltk_data...\n",
            "[nltk_data]    |   Package framenet_v17 is already up-to-date!\n",
            "[nltk_data]    | Downloading package gazetteers to /root/nltk_data...\n",
            "[nltk_data]    |   Package gazetteers is already up-to-date!\n",
            "[nltk_data]    | Downloading package genesis to /root/nltk_data...\n",
            "[nltk_data]    |   Package genesis is already up-to-date!\n",
            "[nltk_data]    | Downloading package gutenberg to /root/nltk_data...\n",
            "[nltk_data]    |   Package gutenberg is already up-to-date!\n",
            "[nltk_data]    | Downloading package ieer to /root/nltk_data...\n",
            "[nltk_data]    |   Package ieer is already up-to-date!\n",
            "[nltk_data]    | Downloading package inaugural to /root/nltk_data...\n",
            "[nltk_data]    |   Package inaugural is already up-to-date!\n",
            "[nltk_data]    | Downloading package indian to /root/nltk_data...\n",
            "[nltk_data]    |   Package indian is already up-to-date!\n",
            "[nltk_data]    | Downloading package jeita to /root/nltk_data...\n",
            "[nltk_data]    |   Package jeita is already up-to-date!\n",
            "[nltk_data]    | Downloading package kimmo to /root/nltk_data...\n",
            "[nltk_data]    |   Package kimmo is already up-to-date!\n",
            "[nltk_data]    | Downloading package knbc to /root/nltk_data...\n",
            "[nltk_data]    |   Package knbc is already up-to-date!\n",
            "[nltk_data]    | Downloading package large_grammars to\n",
            "[nltk_data]    |     /root/nltk_data...\n",
            "[nltk_data]    |   Package large_grammars is already up-to-date!\n",
            "[nltk_data]    | Downloading package lin_thesaurus to\n",
            "[nltk_data]    |     /root/nltk_data...\n",
            "[nltk_data]    |   Package lin_thesaurus is already up-to-date!\n",
            "[nltk_data]    | Downloading package mac_morpho to /root/nltk_data...\n",
            "[nltk_data]    |   Package mac_morpho is already up-to-date!\n",
            "[nltk_data]    | Downloading package machado to /root/nltk_data...\n",
            "[nltk_data]    |   Package machado is already up-to-date!\n",
            "[nltk_data]    | Downloading package masc_tagged to /root/nltk_data...\n",
            "[nltk_data]    |   Package masc_tagged is already up-to-date!\n",
            "[nltk_data]    | Downloading package maxent_ne_chunker to\n",
            "[nltk_data]    |     /root/nltk_data...\n",
            "[nltk_data]    |   Package maxent_ne_chunker is already up-to-date!\n",
            "[nltk_data]    | Downloading package maxent_treebank_pos_tagger to\n",
            "[nltk_data]    |     /root/nltk_data...\n",
            "[nltk_data]    |   Package maxent_treebank_pos_tagger is already up-\n",
            "[nltk_data]    |       to-date!\n",
            "[nltk_data]    | Downloading package moses_sample to\n",
            "[nltk_data]    |     /root/nltk_data...\n",
            "[nltk_data]    |   Package moses_sample is already up-to-date!\n",
            "[nltk_data]    | Downloading package movie_reviews to\n",
            "[nltk_data]    |     /root/nltk_data...\n",
            "[nltk_data]    |   Package movie_reviews is already up-to-date!\n",
            "[nltk_data]    | Downloading package mte_teip5 to /root/nltk_data...\n",
            "[nltk_data]    |   Package mte_teip5 is already up-to-date!\n",
            "[nltk_data]    | Downloading package mwa_ppdb to /root/nltk_data...\n",
            "[nltk_data]    |   Package mwa_ppdb is already up-to-date!\n",
            "[nltk_data]    | Downloading package names to /root/nltk_data...\n",
            "[nltk_data]    |   Package names is already up-to-date!\n",
            "[nltk_data]    | Downloading package nombank.1.0 to /root/nltk_data...\n",
            "[nltk_data]    |   Package nombank.1.0 is already up-to-date!\n",
            "[nltk_data]    | Downloading package nonbreaking_prefixes to\n",
            "[nltk_data]    |     /root/nltk_data...\n",
            "[nltk_data]    |   Package nonbreaking_prefixes is already up-to-date!\n",
            "[nltk_data]    | Downloading package nps_chat to /root/nltk_data...\n",
            "[nltk_data]    |   Package nps_chat is already up-to-date!\n",
            "[nltk_data]    | Downloading package omw to /root/nltk_data...\n",
            "[nltk_data]    |   Package omw is already up-to-date!\n",
            "[nltk_data]    | Downloading package omw-1.4 to /root/nltk_data...\n",
            "[nltk_data]    |   Package omw-1.4 is already up-to-date!\n",
            "[nltk_data]    | Downloading package opinion_lexicon to\n",
            "[nltk_data]    |     /root/nltk_data...\n",
            "[nltk_data]    |   Package opinion_lexicon is already up-to-date!\n",
            "[nltk_data]    | Downloading package panlex_swadesh to\n",
            "[nltk_data]    |     /root/nltk_data...\n",
            "[nltk_data]    |   Package panlex_swadesh is already up-to-date!\n",
            "[nltk_data]    | Downloading package paradigms to /root/nltk_data...\n",
            "[nltk_data]    |   Package paradigms is already up-to-date!\n",
            "[nltk_data]    | Downloading package pe08 to /root/nltk_data...\n",
            "[nltk_data]    |   Package pe08 is already up-to-date!\n",
            "[nltk_data]    | Downloading package perluniprops to\n",
            "[nltk_data]    |     /root/nltk_data...\n",
            "[nltk_data]    |   Package perluniprops is already up-to-date!\n",
            "[nltk_data]    | Downloading package pil to /root/nltk_data...\n",
            "[nltk_data]    |   Package pil is already up-to-date!\n",
            "[nltk_data]    | Downloading package pl196x to /root/nltk_data...\n",
            "[nltk_data]    |   Package pl196x is already up-to-date!\n",
            "[nltk_data]    | Downloading package porter_test to /root/nltk_data...\n",
            "[nltk_data]    |   Package porter_test is already up-to-date!\n",
            "[nltk_data]    | Downloading package ppattach to /root/nltk_data...\n",
            "[nltk_data]    |   Package ppattach is already up-to-date!\n",
            "[nltk_data]    | Downloading package problem_reports to\n",
            "[nltk_data]    |     /root/nltk_data...\n",
            "[nltk_data]    |   Package problem_reports is already up-to-date!\n",
            "[nltk_data]    | Downloading package product_reviews_1 to\n",
            "[nltk_data]    |     /root/nltk_data...\n",
            "[nltk_data]    |   Package product_reviews_1 is already up-to-date!\n",
            "[nltk_data]    | Downloading package product_reviews_2 to\n",
            "[nltk_data]    |     /root/nltk_data...\n",
            "[nltk_data]    |   Package product_reviews_2 is already up-to-date!\n",
            "[nltk_data]    | Downloading package propbank to /root/nltk_data...\n",
            "[nltk_data]    |   Package propbank is already up-to-date!\n",
            "[nltk_data]    | Downloading package pros_cons to /root/nltk_data...\n",
            "[nltk_data]    |   Package pros_cons is already up-to-date!\n",
            "[nltk_data]    | Downloading package ptb to /root/nltk_data...\n",
            "[nltk_data]    |   Package ptb is already up-to-date!\n",
            "[nltk_data]    | Downloading package punkt to /root/nltk_data...\n",
            "[nltk_data]    |   Package punkt is already up-to-date!\n",
            "[nltk_data]    | Downloading package qc to /root/nltk_data...\n",
            "[nltk_data]    |   Package qc is already up-to-date!\n",
            "[nltk_data]    | Downloading package reuters to /root/nltk_data...\n",
            "[nltk_data]    |   Package reuters is already up-to-date!\n",
            "[nltk_data]    | Downloading package rslp to /root/nltk_data...\n",
            "[nltk_data]    |   Package rslp is already up-to-date!\n",
            "[nltk_data]    | Downloading package rte to /root/nltk_data...\n",
            "[nltk_data]    |   Package rte is already up-to-date!\n",
            "[nltk_data]    | Downloading package sample_grammars to\n",
            "[nltk_data]    |     /root/nltk_data...\n",
            "[nltk_data]    |   Package sample_grammars is already up-to-date!\n",
            "[nltk_data]    | Downloading package semcor to /root/nltk_data...\n",
            "[nltk_data]    |   Package semcor is already up-to-date!\n",
            "[nltk_data]    | Downloading package senseval to /root/nltk_data...\n",
            "[nltk_data]    |   Package senseval is already up-to-date!\n",
            "[nltk_data]    | Downloading package sentence_polarity to\n",
            "[nltk_data]    |     /root/nltk_data...\n",
            "[nltk_data]    |   Package sentence_polarity is already up-to-date!\n",
            "[nltk_data]    | Downloading package sentiwordnet to\n",
            "[nltk_data]    |     /root/nltk_data...\n",
            "[nltk_data]    |   Package sentiwordnet is already up-to-date!\n",
            "[nltk_data]    | Downloading package shakespeare to /root/nltk_data...\n",
            "[nltk_data]    |   Package shakespeare is already up-to-date!\n",
            "[nltk_data]    | Downloading package sinica_treebank to\n",
            "[nltk_data]    |     /root/nltk_data...\n",
            "[nltk_data]    |   Package sinica_treebank is already up-to-date!\n",
            "[nltk_data]    | Downloading package smultron to /root/nltk_data...\n",
            "[nltk_data]    |   Package smultron is already up-to-date!\n",
            "[nltk_data]    | Downloading package snowball_data to\n",
            "[nltk_data]    |     /root/nltk_data...\n",
            "[nltk_data]    |   Package snowball_data is already up-to-date!\n",
            "[nltk_data]    | Downloading package spanish_grammars to\n",
            "[nltk_data]    |     /root/nltk_data...\n",
            "[nltk_data]    |   Package spanish_grammars is already up-to-date!\n",
            "[nltk_data]    | Downloading package state_union to /root/nltk_data...\n",
            "[nltk_data]    |   Package state_union is already up-to-date!\n",
            "[nltk_data]    | Downloading package stopwords to /root/nltk_data...\n",
            "[nltk_data]    |   Package stopwords is already up-to-date!\n",
            "[nltk_data]    | Downloading package subjectivity to\n",
            "[nltk_data]    |     /root/nltk_data...\n",
            "[nltk_data]    |   Package subjectivity is already up-to-date!\n",
            "[nltk_data]    | Downloading package swadesh to /root/nltk_data...\n",
            "[nltk_data]    |   Package swadesh is already up-to-date!\n",
            "[nltk_data]    | Downloading package switchboard to /root/nltk_data...\n",
            "[nltk_data]    |   Package switchboard is already up-to-date!\n",
            "[nltk_data]    | Downloading package tagsets to /root/nltk_data...\n",
            "[nltk_data]    |   Package tagsets is already up-to-date!\n",
            "[nltk_data]    | Downloading package timit to /root/nltk_data...\n",
            "[nltk_data]    |   Package timit is already up-to-date!\n",
            "[nltk_data]    | Downloading package toolbox to /root/nltk_data...\n",
            "[nltk_data]    |   Package toolbox is already up-to-date!\n",
            "[nltk_data]    | Downloading package treebank to /root/nltk_data...\n",
            "[nltk_data]    |   Package treebank is already up-to-date!\n",
            "[nltk_data]    | Downloading package twitter_samples to\n",
            "[nltk_data]    |     /root/nltk_data...\n",
            "[nltk_data]    |   Package twitter_samples is already up-to-date!\n",
            "[nltk_data]    | Downloading package udhr to /root/nltk_data...\n",
            "[nltk_data]    |   Package udhr is already up-to-date!\n",
            "[nltk_data]    | Downloading package udhr2 to /root/nltk_data...\n",
            "[nltk_data]    |   Package udhr2 is already up-to-date!\n",
            "[nltk_data]    | Downloading package unicode_samples to\n",
            "[nltk_data]    |     /root/nltk_data...\n",
            "[nltk_data]    |   Package unicode_samples is already up-to-date!\n",
            "[nltk_data]    | Downloading package universal_tagset to\n",
            "[nltk_data]    |     /root/nltk_data...\n",
            "[nltk_data]    |   Package universal_tagset is already up-to-date!\n",
            "[nltk_data]    | Downloading package universal_treebanks_v20 to\n",
            "[nltk_data]    |     /root/nltk_data...\n",
            "[nltk_data]    |   Package universal_treebanks_v20 is already up-to-\n",
            "[nltk_data]    |       date!\n",
            "[nltk_data]    | Downloading package vader_lexicon to\n",
            "[nltk_data]    |     /root/nltk_data...\n",
            "[nltk_data]    |   Package vader_lexicon is already up-to-date!\n",
            "[nltk_data]    | Downloading package verbnet to /root/nltk_data...\n",
            "[nltk_data]    |   Package verbnet is already up-to-date!\n",
            "[nltk_data]    | Downloading package verbnet3 to /root/nltk_data...\n",
            "[nltk_data]    |   Package verbnet3 is already up-to-date!\n",
            "[nltk_data]    | Downloading package webtext to /root/nltk_data...\n",
            "[nltk_data]    |   Package webtext is already up-to-date!\n",
            "[nltk_data]    | Downloading package wmt15_eval to /root/nltk_data...\n",
            "[nltk_data]    |   Package wmt15_eval is already up-to-date!\n",
            "[nltk_data]    | Downloading package word2vec_sample to\n",
            "[nltk_data]    |     /root/nltk_data...\n",
            "[nltk_data]    |   Package word2vec_sample is already up-to-date!\n",
            "[nltk_data]    | Downloading package wordnet to /root/nltk_data...\n",
            "[nltk_data]    |   Package wordnet is already up-to-date!\n",
            "[nltk_data]    | Downloading package wordnet2021 to /root/nltk_data...\n",
            "[nltk_data]    |   Package wordnet2021 is already up-to-date!\n",
            "[nltk_data]    | Downloading package wordnet31 to /root/nltk_data...\n",
            "[nltk_data]    |   Package wordnet31 is already up-to-date!\n",
            "[nltk_data]    | Downloading package wordnet_ic to /root/nltk_data...\n",
            "[nltk_data]    |   Package wordnet_ic is already up-to-date!\n",
            "[nltk_data]    | Downloading package words to /root/nltk_data...\n",
            "[nltk_data]    |   Package words is already up-to-date!\n",
            "[nltk_data]    | Downloading package ycoe to /root/nltk_data...\n",
            "[nltk_data]    |   Package ycoe is already up-to-date!\n",
            "[nltk_data]    | \n",
            "[nltk_data]  Done downloading collection all\n"
          ]
        }
      ],
      "source": [
        "from nltk.corpus.reader.wordnet import Lemma\n",
        "import nltk\n",
        "nltk.download('all')\n",
        "\n",
        "# For file reading\n",
        "import os\n",
        "from os import listdir\n",
        "# For pre-processing \n",
        "from nltk import word_tokenize\n",
        "from nltk.tokenize import punkt\n",
        "from nltk.corpus import stopwords\n",
        "from nltk.stem.wordnet import WordNetLemmatizer\n",
        "from nltk.stem import PorterStemmer\n",
        "\n",
        "import re\n",
        "import pandas as pd\n",
        "import numpy as np\n",
        "import string\n",
        "import random\n",
        "\n",
        "import torch\n",
        "import torch.nn as nn\n",
        "import torch.nn.functional as F\n",
        "import seaborn as sns\n",
        "import matplotlib.pyplot as plt\n",
        "from tqdm import tqdm\n",
        "from collections import Counter\n",
        "from torch.utils.data import TensorDataset, DataLoader\n",
        "from sklearn.model_selection import train_test_split\n",
        "from sklearn.cluster import KMeans\n",
        "\n",
        "# 5-fold cross validation (CV)\n",
        "from tensorflow.keras.models import Sequential\n",
        "from tensorflow.keras.layers import Dense\n",
        "from sklearn.model_selection import KFold\n",
        "from sklearn.model_selection import StratifiedKFold\n",
        "from sklearn.model_selection import cross_val_score"
      ]
    },
    {
      "cell_type": "code",
      "source": [
        "def read_data(path: str) -> list:\n",
        "    \"\"\" Read files from a directory and then append the data of each file into a list. \"\"\"\n",
        "    folder = listdir(path)\n",
        "    res = []\n",
        "    for files in folder:\n",
        "        # check if current path is a file\n",
        "        if files != \"README.txt\":\n",
        "            filePath = os.path.join(path, files)\n",
        "            if os.path.isfile(filePath):\n",
        "                with open(filePath, \"r\") as file:\n",
        "                    lines = file.readlines()\n",
        "                res.append(lines)\n",
        "    return res\n",
        "\n",
        "def get_raw_data(res: list) -> list:\n",
        "    '''Get avaliable data for training and testing data'''\n",
        "    # Getting avaliable data for LSTM\n",
        "    avaliable_data = []\n",
        "    for document in res:\n",
        "        # Remove \\n from the string list\n",
        "        processedList = [s.strip() for s in document]\n",
        "        # Remove [t] tag\n",
        "        processedList = [re.sub('\\[t\\]', '', word) for word in processedList]\n",
        "        # Store values in list\n",
        "        for sentence in processedList:\n",
        "            # Remove non-tagged data and empty data\n",
        "            if (not sentence.startswith(\"##\")) and (sentence != \"\"):\n",
        "                avaliable_data.append(sentence)\n",
        "                \n",
        "    # Store raw review and raw sentiment seperatly in 2 lists\n",
        "    raw_tag = []\n",
        "    raw_text = []\n",
        "    \n",
        "    for data in avaliable_data:\n",
        "        # Split data into tag and text\n",
        "        split_data = data.split(\"##\")\n",
        "\n",
        "        left_tag = split_data[0]\n",
        "        right_text = split_data[-1]\n",
        "\n",
        "        # print(\"Before:   \",left_tag)\n",
        "\n",
        "        # Get pre-defined sentiment tags, with or without +/-\n",
        "        num_list = re.findall(r'[+|-]+\\d+', left_tag)\n",
        "        num_only = re.findall(r'\\[\\d+\\]', left_tag)\n",
        "\n",
        "        new_num_only = [num.replace('[', '') for num in num_only]\n",
        "        new_num_only = [num.replace(']', '') for num in new_num_only]\n",
        "        num_list = num_list +  new_num_only\n",
        "        \n",
        "        raw_tag.append(num_list)\n",
        "        raw_text.append(right_text)\n",
        "    \n",
        "    return raw_tag, raw_text\n",
        "\n",
        "def preprocess_text(s: str) -> list:\n",
        "    '''Text cleaning and pre-processing'''\n",
        "    # Remove number\n",
        "    s = re.sub(r'\\d+', ' ', s)\n",
        "    pattern = r'''(?x)        # set flag to allow verbose regexps\n",
        "                    (?:[A-Z]\\.)+      #abbreviations, e.g. \n",
        "                    |\\[\n",
        "                    |\\w+\\'+\\w+        #keep contractions, e.g. doesn't \n",
        "                    |[^\\w\\s]\n",
        "                    |\\#\n",
        "                    |[-.(]+           #double hyphen, ellipsis, open parenthesis\n",
        "                    |\\S\\w*\n",
        "                    |\\$?\\d+(?:\\.\\d+)?%? #currency and percentages\n",
        "        '''\n",
        "    # Tokenization\n",
        "    token_list = nltk.regexp_tokenize(s, pattern)\n",
        "    #To lower case\n",
        "    token_list = [word.lower() for word in token_list]\n",
        "    #Remove stopwords\n",
        "    stopW = stopwords.words(\"english\")\n",
        "    stopW.append(\"mp\")\n",
        "    stopW.append(\"i'm\")\n",
        "    stopW.append(\"i've\")\n",
        "    token_list = list(filter(lambda word: word not in stopW,token_list))\n",
        "    #Remove Punctuation\n",
        "    token_list = list(filter(lambda word: punkt.PunktToken(word).is_non_punct,token_list))\n",
        "    # Lemmatization \n",
        "    lemma = WordNetLemmatizer()\n",
        "    token_list = [lemma.lemmatize(word) for word in token_list]\n",
        "    \n",
        "    return token_list\n",
        "\n",
        "def get_review_label(raw_tag: list, raw_text: list):\n",
        "    '''Pre-process the reviews and encoding the label'''\n",
        "    reviews = []\n",
        "    for text in raw_text:\n",
        "        review = preprocess_text(text)\n",
        "        reviews.append(review)\n",
        "    sentiments = []\n",
        "    for review in raw_tag:\n",
        "        total = 0\n",
        "        tag_size = len(review)\n",
        "        # Add all the positive and negative tag together to check if the whole review is positive or negative\n",
        "        if tag_size >= 1:\n",
        "            for num in review:\n",
        "                total += int(num)\n",
        "        \n",
        "        # Encoded the labels\n",
        "        if total > 0:\n",
        "            sentiments.append(1)\n",
        "        else:\n",
        "            sentiments.append(0)\n",
        "    return sentiments, reviews\n",
        "\n",
        "\n",
        "def get_encoded_reviews(reviews: list):\n",
        "    '''Encoding all the words with their frquency'''\n",
        "    # Get word frequency in all reviews\n",
        "    all_word = []\n",
        "    for sen in reviews:\n",
        "        all_word+=sen\n",
        "\n",
        "    word_freq = nltk.FreqDist(all_word)\n",
        "\n",
        "    # Encode the reviews\n",
        "    encoded_review = []\n",
        "    for sen in reviews:\n",
        "        encode_list = list(word_freq[word] for word in sen)\n",
        "        encoded_review.append(encode_list)\n",
        "    \n",
        "    return encoded_review\n",
        "\n",
        "\n",
        "def pad_features(reviews_int, seq_length):\n",
        "    ''' Return features of review_ints, where each review is padded with 0's or truncated to the input seq_length.\n",
        "    '''\n",
        "    features = np.zeros((len(reviews_int), seq_length), dtype = int)\n",
        "    \n",
        "    for i, review in enumerate(reviews_int):\n",
        "        review_len = len(review)\n",
        "        \n",
        "        if review_len <= seq_length:\n",
        "            zeroes = list(np.zeros(seq_length-review_len))\n",
        "            new = zeroes+review\n",
        "        elif review_len > seq_length:\n",
        "            new = review[0:seq_length]\n",
        "        \n",
        "        features[i,:] = np.array(new)\n",
        "    \n",
        "    return features"
      ],
      "metadata": {
        "id": "bO15foIZysoF"
      },
      "execution_count": 199,
      "outputs": []
    },
    {
      "cell_type": "code",
      "source": [
        "path = \"/content/product_reviews\"\n",
        "\n",
        "# Reading documents\n",
        "res = read_data(path)\n",
        "raw_tag, raw_text = get_raw_data(res)\n",
        "labels, texts = get_review_label(raw_tag, raw_text)\n",
        "data = []\n",
        "for i in range(len(labels)):\n",
        "    data.append([texts[i], labels[i]])\n",
        "    \n",
        "# Create the dataframe for training and testing data\n",
        "df = pd.DataFrame(data, columns=[\"Reviews\", \"Sentiments\"])\n",
        "# print(df)\n",
        "print(\"text length:   \",len(texts))\n",
        "encoded_reviews = get_encoded_reviews(texts)\n",
        "print(\"encoded_reviews[:10]:   \",encoded_reviews[:10])\n"
      ],
      "metadata": {
        "colab": {
          "base_uri": "https://localhost:8080/"
        },
        "id": "oBHTsBG7zQj5",
        "outputId": "632f2d73-7c01-4006-9d5a-20dd842b9576"
      },
      "execution_count": 200,
      "outputs": [
        {
          "output_type": "stream",
          "name": "stdout",
          "text": [
            "text length:    2138\n",
            "encoded_reviews[:10]:    [[138, 26, 3, 11, 73, 25, 6, 19], [17, 29, 28, 25, 3, 45, 24, 73, 49, 19, 1, 6], [9, 20, 1, 19, 27, 19, 18, 27, 62, 16], [115, 154, 8, 20, 3, 19, 28, 10, 24, 3, 4, 138], [73, 154, 43, 1, 183, 7, 44, 62, 24, 8], [62, 8, 31, 33, 18, 138, 1, 24], [2, 52, 29, 14, 10, 43, 138], [17, 25, 138, 23, 27, 7, 3, 106], [7, 3, 1], [16, 34, 2, 1, 19, 35, 1, 7, 3, 29, 3, 1, 1, 138, 14, 35, 6, 7, 14, 7, 30, 2, 20, 33, 3, 20]]\n"
          ]
        }
      ]
    },
    {
      "cell_type": "code",
      "source": [
        "reviews_len = [len(x) for x in encoded_reviews]\n",
        "pd.Series(reviews_len).hist()\n",
        "plt.show()\n",
        "pd.Series(reviews_len).describe()"
      ],
      "metadata": {
        "colab": {
          "base_uri": "https://localhost:8080/",
          "height": 425
        },
        "id": "HqJ765ELzp8t",
        "outputId": "1c16e9cf-1e2f-4a7f-d003-125c7bde984c"
      },
      "execution_count": 201,
      "outputs": [
        {
          "output_type": "display_data",
          "data": {
            "text/plain": [
              "<Figure size 432x288 with 1 Axes>"
            ],
            "image/png": "[encoded data removed]"
          },
          "metadata": {
            "needs_background": "light"
          }
        },
        {
          "output_type": "execute_result",
          "data": {
            "text/plain": [
              "count    2138.000000\n",
              "mean        8.902713\n",
              "std         5.399257\n",
              "min         0.000000\n",
              "25%         5.000000\n",
              "50%         8.000000\n",
              "75%        11.000000\n",
              "max        48.000000\n",
              "dtype: float64"
            ]
          },
          "metadata": {},
          "execution_count": 201
        }
      ]
    },
    {
      "cell_type": "code",
      "source": [
        "sequence_len = 30\n",
        "features = pad_features(encoded_reviews, sequence_len)\n",
        "print(\"features:   \\n\",features)\n",
        "print(\"features len:   \",len(features))\n",
        "print(\"features[0] len/ Vocab len:   \",len(features[0]))"
      ],
      "metadata": {
        "colab": {
          "base_uri": "https://localhost:8080/"
        },
        "id": "XBxe2d9J0FFl",
        "outputId": "db920c24-d71d-473a-9c98-99944a85fdd3"
      },
      "execution_count": 202,
      "outputs": [
        {
          "output_type": "stream",
          "name": "stdout",
          "text": [
            "features:   \n",
            " [[  0   0   0 ...  25   6  19]\n",
            " [  0   0   0 ...  19   1   6]\n",
            " [  0   0   0 ...  27  62  16]\n",
            " ...\n",
            " [  0   0   0 ...  11 137   1]\n",
            " [  0   0   0 ...  21   8  11]\n",
            " [  0   0   0 ...  21 154   1]]\n",
            "features len:    2138\n",
            "features[0] len/ Vocab len:    30\n"
          ]
        }
      ]
    },
    {
      "cell_type": "code",
      "source": [
        "# # split data into training data and testing data\n",
        "# texts_train, texts_test, labels_train, labels_test = train_test_split(features, labels, stratify=labels)\n",
        "# print(len(texts_train), len(texts_test), len(labels_train), len(labels_test))\n",
        "\n",
        "# fix random seed for reproducibility\n",
        "seed = 7\n",
        "np.random.seed(seed)\n",
        "labels = np.array(labels)\n",
        "\n",
        "# split into 80% for train and 20% for test\n",
        "# texts_train, texts_test, labels_train, labels_test = train_test_split(features, labels, test_size=0.2, random_state=seed)\n",
        "\n",
        "# define 5-fold cross validation test harness\n",
        "kf = KFold(n_splits=5)\n",
        "\n",
        "for train_index, test_index in kf.split(features):\n",
        "    texts_train, texts_test = features[train_index], features[test_index]\n",
        "    labels_train, labels_test = labels[train_index], labels[test_index]\n",
        "\n",
        "print(len(texts_train), len(texts_test), len(labels_train), len(labels_test))"
      ],
      "metadata": {
        "colab": {
          "base_uri": "https://localhost:8080/"
        },
        "id": "GFP0GZ-T0TUa",
        "outputId": "66628823-5c9c-4642-b09f-3a0334f00bfe"
      },
      "execution_count": 203,
      "outputs": [
        {
          "output_type": "stream",
          "name": "stdout",
          "text": [
            "1711 427 1711 427\n"
          ]
        }
      ]
    },
    {
      "cell_type": "code",
      "source": [
        "# print(len(texts_train), len(texts_test), len(labels_train), len(labels_test)\n",
        "print(texts_train[:50])\n",
        "print(labels_train[:50])"
      ],
      "metadata": {
        "colab": {
          "base_uri": "https://localhost:8080/"
        },
        "id": "kzaW_qaBSNuE",
        "outputId": "72905a6c-c9e7-4fe9-a169-cd1e5c44edda"
      },
      "execution_count": 204,
      "outputs": [
        {
          "output_type": "stream",
          "name": "stdout",
          "text": [
            "[[  0   0   0 ...  25   6  19]\n",
            " [  0   0   0 ...  19   1   6]\n",
            " [  0   0   0 ...  27  62  16]\n",
            " ...\n",
            " [  0   0   0 ...  26   8   6]\n",
            " [  0   0   0 ...  12  24   3]\n",
            " [  0   0   0 ... 137  12   1]]\n",
            "[1 1 1 1 1 1 1 0 0 0 0 1 0 0 0 0 0 0 0 1 1 1 1 1 1 1 1 1 1 1 0 1 1 1 1 1 1\n",
            " 0 0 0 1 1 1 0 1 0 1 0 1 1]\n"
          ]
        }
      ]
    },
    {
      "cell_type": "markdown",
      "source": [
        "# Batching and loading as tensor"
      ],
      "metadata": {
        "id": "atG3krT20mQl"
      }
    },
    {
      "cell_type": "code",
      "source": [
        "texts_train = np.array(texts_train)\n",
        "labels_train = np.array(labels_train)\n",
        "texts_test = np.array(texts_test)\n",
        "labels_test = np.array(labels_test)\n",
        "\n",
        "# create Tensor datasets\n",
        "train_data = TensorDataset(torch.from_numpy(texts_train), torch.from_numpy(labels_train))\n",
        "test_data = TensorDataset(torch.from_numpy(texts_test), torch.from_numpy(labels_test))\n",
        "  \n",
        "# dataloaders\n",
        "batch_size = 50\n",
        "\n",
        "# SHUFFLE the data\n",
        "train_loader = DataLoader(train_data, shuffle=True, batch_size=batch_size)\n",
        "test_loader = DataLoader(test_data, shuffle=True, batch_size=batch_size)\n",
        "\n",
        "# obtain one batch of training data\n",
        "dataiter = iter(train_loader)\n",
        "sample_x, sample_y = next(dataiter)\n",
        "\n",
        "\n",
        "print('Sample input size: ', sample_x.size()) # batch_size, seq_length\n",
        "print('Sample input: \\n', sample_x)\n",
        "print('Sample input: \\n', sample_y)"
      ],
      "metadata": {
        "colab": {
          "base_uri": "https://localhost:8080/"
        },
        "id": "xLiK7Rlu0dNA",
        "outputId": "8da285cd-f062-4855-d9df-e09130c0be4d"
      },
      "execution_count": 205,
      "outputs": [
        {
          "output_type": "stream",
          "name": "stdout",
          "text": [
            "Sample input size:  torch.Size([50, 30])\n",
            "Sample input: \n",
            " tensor([[  0,   0,   0,  ...,  21,   2,   3],\n",
            "        [  0,   0,   0,  ..., 108,  12,  13],\n",
            "        [  0,   0,   0,  ...,  26,   2,  20],\n",
            "        ...,\n",
            "        [  0,   0,   0,  ...,  14,   3,   5],\n",
            "        [  0,   0,   0,  ...,   1, 119, 190],\n",
            "        [  0,   0,   0,  ...,  24,  18,  14]])\n",
            "Sample input: \n",
            " tensor([1, 1, 0, 1, 0, 0, 0, 1, 1, 0, 1, 0, 0, 0, 1, 1, 1, 1, 1, 0, 0, 0, 1, 1,\n",
            "        1, 0, 0, 1, 0, 0, 1, 0, 0, 1, 1, 1, 0, 0, 1, 1, 1, 1, 1, 1, 1, 0, 1, 1,\n",
            "        1, 1])\n"
          ]
        }
      ]
    },
    {
      "cell_type": "code",
      "source": [
        "print(\"sample_x size:   \", len(sample_x))\n",
        "print(\"sample_y size:   \", len(sample_y))"
      ],
      "metadata": {
        "colab": {
          "base_uri": "https://localhost:8080/"
        },
        "id": "Uv7d50M70pxk",
        "outputId": "ab8ecd0f-d13d-4d27-fbf0-f41d5678d6f9"
      },
      "execution_count": 206,
      "outputs": [
        {
          "output_type": "stream",
          "name": "stdout",
          "text": [
            "sample_x size:    50\n",
            "sample_y size:    50\n"
          ]
        }
      ]
    },
    {
      "cell_type": "markdown",
      "source": [
        "# Define the LSTM Model"
      ],
      "metadata": {
        "id": "XRbfxQzf026U"
      }
    },
    {
      "cell_type": "code",
      "source": [
        "from sklearn.model_selection import train_test_split\n",
        "from tensorflow.keras.preprocessing.text import Tokenizer\n",
        "from tensorflow.keras.preprocessing.sequence import pad_sequences\n",
        "from tensorflow.keras.models import Sequential\n",
        "from tensorflow.keras.layers import LSTM, Dense, Embedding, Bidirectional\n",
        "from tensorflow.keras.callbacks import EarlyStopping, ModelCheckpoint"
      ],
      "metadata": {
        "id": "Tubo7E380tAT"
      },
      "execution_count": 207,
      "outputs": []
    },
    {
      "cell_type": "markdown",
      "source": [
        "# Model 1"
      ],
      "metadata": {
        "id": "ehqL-o835sRZ"
      }
    },
    {
      "cell_type": "code",
      "source": [
        "model = Sequential()\n",
        "embedding_dim = 256\n",
        "vocab_size = len(encoded_reviews)+1 # +1 for the 0 padding\n",
        "model.add(Embedding(vocab_size, embedding_dim, input_length=sequence_len))\n",
        "lstm_out = 1\n",
        "model.add(Bidirectional(LSTM(lstm_out)))\n",
        "model.add(Dense(10, activation='relu'))\n",
        "model.add(Dense(1, activation='sigmoid'))\n",
        "model.compile(loss='binary_crossentropy', optimizer='adam', metrics=['accuracy'])\n",
        "print(model.summary())"
      ],
      "metadata": {
        "colab": {
          "base_uri": "https://localhost:8080/"
        },
        "id": "lIK9zxnr1Zou",
        "outputId": "036c2c2f-6f4e-4d32-92da-43d3c7a987b2"
      },
      "execution_count": 208,
      "outputs": [
        {
          "output_type": "stream",
          "name": "stdout",
          "text": [
            "Model: \"sequential_25\"\n",
            "_________________________________________________________________\n",
            " Layer (type)                Output Shape              Param #   \n",
            "=================================================================\n",
            " embedding_25 (Embedding)    (None, 30, 256)           547584    \n",
            "                                                                 \n",
            " bidirectional_25 (Bidirecti  (None, 2)                2064      \n",
            " onal)                                                           \n",
            "                                                                 \n",
            " dense_51 (Dense)            (None, 10)                30        \n",
            "                                                                 \n",
            " dense_52 (Dense)            (None, 1)                 11        \n",
            "                                                                 \n",
            "=================================================================\n",
            "Total params: 549,689\n",
            "Trainable params: 549,689\n",
            "Non-trainable params: 0\n",
            "_________________________________________________________________\n",
            "None\n"
          ]
        }
      ]
    },
    {
      "cell_type": "code",
      "source": [
        "checkpoint_filepath = os.getcwd()\n",
        "model_checkpoint_callback = ModelCheckpoint(filepath=checkpoint_filepath, save_weights_only=False, monitor='val_loss', mode='min', save_best_only=True)\n",
        "callbacks = [EarlyStopping(patience=2), model_checkpoint_callback]"
      ],
      "metadata": {
        "id": "r8fOoKSF1310"
      },
      "execution_count": 209,
      "outputs": []
    },
    {
      "cell_type": "markdown",
      "source": [
        "Train the model"
      ],
      "metadata": {
        "id": "HJPD3Tl2DVVg"
      }
    },
    {
      "cell_type": "code",
      "source": [
        "# Fit the model\n",
        "# history = model.fit(texts_train, labels_train, epochs=10, validation_data=(texts_test, labels_test), callbacks=callbacks)\n",
        "batch_size=200\n",
        "history = model.fit(texts_train, labels_train, validation_data=(texts_test, labels_test), epochs=70, batch_size=batch_size, callbacks=callbacks)"
      ],
      "metadata": {
        "colab": {
          "base_uri": "https://localhost:8080/"
        },
        "id": "127InJst4lm6",
        "outputId": "c5da9be0-bde0-4dbd-d295-172a7a3dfe30"
      },
      "execution_count": 218,
      "outputs": [
        {
          "output_type": "stream",
          "name": "stdout",
          "text": [
            "Epoch 1/70\n",
            "9/9 [==============================] - 1s 79ms/step - loss: 0.5570 - accuracy: 0.7113 - val_loss: 0.6459 - val_accuracy: 0.6183\n",
            "Epoch 2/70\n",
            "9/9 [==============================] - 1s 76ms/step - loss: 0.5527 - accuracy: 0.7165 - val_loss: 0.6433 - val_accuracy: 0.6112\n",
            "Epoch 3/70\n",
            "9/9 [==============================] - 1s 73ms/step - loss: 0.5518 - accuracy: 0.7224 - val_loss: 0.6556 - val_accuracy: 0.6230\n",
            "Epoch 4/70\n",
            "9/9 [==============================] - 1s 77ms/step - loss: 0.5481 - accuracy: 0.7160 - val_loss: 0.6492 - val_accuracy: 0.6253\n"
          ]
        }
      ]
    },
    {
      "cell_type": "code",
      "source": [
        "metrics_df = pd.DataFrame(history.history)\n",
        "print(metrics_df)"
      ],
      "metadata": {
        "colab": {
          "base_uri": "https://localhost:8080/"
        },
        "id": "Gr4FTsJm40gM",
        "outputId": "fa4a8abc-485d-4643-b006-0563fa449092"
      },
      "execution_count": 219,
      "outputs": [
        {
          "output_type": "stream",
          "name": "stdout",
          "text": [
            "       loss  accuracy  val_loss  val_accuracy\n",
            "0  0.557047  0.711280  0.645895      0.618267\n",
            "1  0.552733  0.716540  0.643301      0.611241\n",
            "2  0.551837  0.722385  0.655623      0.622951\n",
            "3  0.548077  0.715956  0.649153      0.625293\n"
          ]
        }
      ]
    },
    {
      "cell_type": "markdown",
      "source": [
        "Testing Model"
      ],
      "metadata": {
        "id": "wGkL__RhRukN"
      }
    },
    {
      "cell_type": "code",
      "source": [
        "# Testing with 5 fold cross validation\n",
        "kf = KFold(n_splits=5)\n",
        "\n",
        "for train_index, test_index in kf.split(features):\n",
        "    X_validate, X_test = features[train_index], features[test_index]\n",
        "    Y_validate, Y_test = labels[train_index], labels[test_index]\n",
        "\n",
        "score, acc = model.evaluate(X_test, Y_test, verbose = 2, batch_size = batch_size)\n",
        "print(\"score: %.2f\" % (score))\n",
        "print(\"acc: %.2f\" % (acc))"
      ],
      "metadata": {
        "colab": {
          "base_uri": "https://localhost:8080/"
        },
        "id": "iz3o-kPmRjsU",
        "outputId": "cb9ac6f7-66f7-4954-bbe0-1c46cd04ae96"
      },
      "execution_count": 222,
      "outputs": [
        {
          "output_type": "stream",
          "name": "stdout",
          "text": [
            "3/3 - 0s - loss: 0.6492 - accuracy: 0.6253 - 76ms/epoch - 25ms/step\n",
            "score: 0.65\n",
            "acc: 0.63\n"
          ]
        }
      ]
    },
    {
      "cell_type": "code",
      "source": [],
      "metadata": {
        "id": "yXaOJyndWY6c"
      },
      "execution_count": null,
      "outputs": []
    }
  ]
}