{
 "cells": [
  {
   "cell_type": "code",
   "execution_count": 1,
   "id": "06b18efd-fc1f-457f-ae73-34397493211b",
   "metadata": {},
   "outputs": [],
   "source": [
    "from nltk.corpus.reader.wordnet import Lemma\n",
    "import nltk\n",
    "\n",
    "# For file reading\n",
    "import os\n",
    "from os import listdir\n",
    "# For pre-processing \n",
    "from nltk import word_tokenize\n",
    "from nltk.tokenize import punkt\n",
    "from nltk.corpus import stopwords\n",
    "from nltk.stem.wordnet import WordNetLemmatizer\n",
    "from nltk.stem import PorterStemmer\n",
    "\n",
    "import re\n",
    "import pandas as pd\n",
    "import numpy as np\n",
    "import string\n",
    "import random\n",
    "\n",
    "import torch\n",
    "import torch.nn as nn\n",
    "import torch.nn.functional as F\n",
    "import seaborn as sns\n",
    "import matplotlib.pyplot as plt\n",
    "from tqdm import tqdm\n",
    "from collections import Counter\n",
    "from torch.utils.data import TensorDataset, DataLoader\n",
    "from sklearn.model_selection import train_test_split\n",
    "from sklearn.cluster import KMeans"
   ]
  },
  {
   "cell_type": "code",
   "execution_count": 2,
   "id": "3a7e5886-c4ee-44de-89e2-09f3baef009c",
   "metadata": {},
   "outputs": [],
   "source": [
    "def read_data(path: str) -> list:\n",
    "    \"\"\" Read files from a directory and then append the data of each file into a list. \"\"\"\n",
    "    folder = listdir(path)\n",
    "    res = []\n",
    "    for files in folder:\n",
    "        # check if current path is a file\n",
    "        if files != \"README.txt\":\n",
    "            filePath = os.path.join(path, files)\n",
    "            if os.path.isfile(filePath):\n",
    "                with open(filePath, \"r\") as file:\n",
    "                    lines = file.readlines()\n",
    "                res.append(lines)\n",
    "    return res\n"
   ]
  },
  {
   "cell_type": "code",
   "execution_count": 3,
   "id": "8647ef7d-7cf9-42dd-9a95-34152c93839f",
   "metadata": {},
   "outputs": [],
   "source": [
    "path = \"/Users/rubyli/Desktop/GitHubRepos/UoM/NLP-Distributional-Semantics-Neural-Network-for-Classifying-Product-Reviews/product_reviews\"\n",
    "\n",
    "# Reading documents\n",
    "res = read_data(path)\n",
    "# print(res[1][:5])"
   ]
  },
  {
   "cell_type": "code",
   "execution_count": 4,
   "id": "8b27cd6f-1d29-4e19-8994-2025bf3351b2",
   "metadata": {},
   "outputs": [],
   "source": [
    "# Getting avaliable data for LSTM\n",
    "avaliable_data = []\n",
    "for document in res:\n",
    "    # Remove \\n from the string list\n",
    "    processedList = [s.strip() for s in document]\n",
    "    # Remove [t] tag\n",
    "    processedList = [re.sub('\\[t\\]', '', word) for word in processedList]\n",
    "    # Store values in list\n",
    "    for sentence in processedList:\n",
    "        # Remove non-tagged data and empty data\n",
    "        if (not sentence.startswith(\"##\")) and (sentence != \"\"):\n",
    "            avaliable_data.append(sentence)"
   ]
  },
  {
   "cell_type": "code",
   "execution_count": 5,
   "id": "80ee4452-e2e3-4e2d-b446-8dd6485b9c85",
   "metadata": {},
   "outputs": [
    {
     "name": "stdout",
     "output_type": "stream",
     "text": [
      "size[+1][u],pictures[+2]##After getting one for Christmas from Amazon, I'm now a believer:  The Digital Elph is truly the world's smallest digital camera that shoots great pictures. \n",
      "\n",
      "pictures[+2]##I've had this camera just over 2 years and it takes pretty good pictures. \n",
      "\n",
      "size[+3]##The size is tiny, which I love. \n",
      "\n",
      "pictures[-1]##Sometimes the pictures are onthe dark side, but I'm able to fix that using the Photoshop 6.0 \"adjust levels\" function ... not sure how a person would do that without Photoshop, though. \n",
      "\n",
      "ease of use[+3][u]##This camera is so easy to use! \n",
      "\n",
      "features[+3]##All the features are incredibly intuitive, even for a novice like me. \n",
      "\n",
      "pictures[+3],size[+3]##The pictures are beautiful, and the camera is so small you can carry it anywhere. \n",
      "\n",
      "price[+2],features[+2],size[+2],ease of use[+2]##I, as many others, have waited for many years for the convergence of price, features, size and ease of use to hit that happy center point. \n",
      "\n",
      "fun[+3]##I bought this little guy a few weeks back, and I have to saythat I never had so much fun with a new toy as this. \n",
      "\n",
      "size[+3]##You willdefinitly appreciate the small size. \n",
      "\n"
     ]
    }
   ],
   "source": [
    "for sen in avaliable_data[-10:]:\n",
    "    print(sen, \"\\n\")"
   ]
  },
  {
   "cell_type": "code",
   "execution_count": 6,
   "id": "480940c8-78d6-4b67-a59c-68824307ae8d",
   "metadata": {},
   "outputs": [
    {
     "name": "stdout",
     "output_type": "stream",
     "text": [
      "2138\n",
      "[\"size[+1][u],pictures[+2]##After getting one for Christmas from Amazon, I'm now a believer:  The Digital Elph is truly the world's smallest digital camera that shoots great pictures.\", \"pictures[+2]##I've had this camera just over 2 years and it takes pretty good pictures.\", 'size[+3]##The size is tiny, which I love.', 'pictures[-1]##Sometimes the pictures are onthe dark side, but I\\'m able to fix that using the Photoshop 6.0 \"adjust levels\" function ... not sure how a person would do that without Photoshop, though.', 'ease of use[+3][u]##This camera is so easy to use!', 'features[+3]##All the features are incredibly intuitive, even for a novice like me.', 'pictures[+3],size[+3]##The pictures are beautiful, and the camera is so small you can carry it anywhere.', 'price[+2],features[+2],size[+2],ease of use[+2]##I, as many others, have waited for many years for the convergence of price, features, size and ease of use to hit that happy center point.', 'fun[+3]##I bought this little guy a few weeks back, and I have to saythat I never had so much fun with a new toy as this.', 'size[+3]##You willdefinitly appreciate the small size.']\n"
     ]
    }
   ],
   "source": [
    "print(len(avaliable_data))\n",
    "print(avaliable_data[-10:])"
   ]
  },
  {
   "cell_type": "code",
   "execution_count": 32,
   "id": "df7d95f3-6c00-42f4-b9c9-fceb4474a315",
   "metadata": {},
   "outputs": [
    {
     "name": "stdout",
     "output_type": "stream",
     "text": [
      "Tags: \n",
      " [['-1'], ['-1'], ['1'], ['+2', '+2'], ['+3', '+2'], ['+3'], ['+2', '+2'], ['+1'], ['+2'], ['+1'], ['+1', '+2'], ['+2'], ['+3'], ['-1'], ['+3'], ['+3'], ['+3', '+3'], ['+2', '+2', '+2', '+2'], ['+3'], ['+3']]\n",
      "Texts: \n",
      " ['8- Buttons are little, but If you have steady fingers and dealed with a casio wirst calculator watch, you can deal with almost anything.', 'Buttons size is OK for me, my wife, but not my grany.', 'i researched and researched between getting the canon s20 or the canon s100, and of course i got the latter!', \"I was looking for something that wasn't too complicated to use and to help the pics I post on Ebay show more detial.\", 'This camera is great, wonderfully small, and has attactive hi-tech casing.', \"Very easy to use for someone like me who's just hopping on the digital camera bandwagon.\", 'The controls are easy to understand and big enough that they are easy to see and use.', 'The optical and digital zooms combine to give an effective 4x zoom.', 'This is enough capacity and capability to do a complete household inventory, for example.', \"because, unless it's small, I won't cary it around.\", \"After getting one for Christmas from Amazon, I'm now a believer:  The Digital Elph is truly the world's smallest digital camera that shoots great pictures.\", \"I've had this camera just over 2 years and it takes pretty good pictures.\", 'The size is tiny, which I love.', 'Sometimes the pictures are onthe dark side, but I\\'m able to fix that using the Photoshop 6.0 \"adjust levels\" function ... not sure how a person would do that without Photoshop, though.', 'This camera is so easy to use!', 'All the features are incredibly intuitive, even for a novice like me.', 'The pictures are beautiful, and the camera is so small you can carry it anywhere.', 'I, as many others, have waited for many years for the convergence of price, features, size and ease of use to hit that happy center point.', 'I bought this little guy a few weeks back, and I have to saythat I never had so much fun with a new toy as this.', 'You willdefinitly appreciate the small size.']\n"
     ]
    }
   ],
   "source": [
    "# Store review and sentiment seperatly in 2 lists\n",
    "raw_review = []\n",
    "raw_sentiment = []\n",
    "\n",
    "temp_tag = []\n",
    "temp_text = []\n",
    "for data in avaliable_data:\n",
    "    \n",
    "    split_data = data.split(\"##\")\n",
    "    \n",
    "    left_tag = split_data[0]\n",
    "    right_text = split_data[-1]\n",
    "\n",
    "    # print(\"Before:   \",left_tag)\n",
    "\n",
    "    # Get pre-defined sentiment tags\n",
    "    num_list = re.findall(r'[+|-]+\\d+', left_tag)\n",
    "    # Replace all tag with + or - \n",
    "    \n",
    "    \n",
    "    num_only = re.findall(r'\\[\\d+\\]', left_tag)\n",
    "    \n",
    "    new_num_only = [num.replace('[', '') for num in num_only]\n",
    "    new_num_only = [num.replace(']', '') for num in new_num_only]\n",
    "    num_list = num_list +  new_num_only\n",
    "        \n",
    "    # num_list = [num.replace('+', '') for num in num_list]\n",
    "\n",
    "    temp_tag.append(num_list)\n",
    "    temp_text.append(right_text)\n",
    "\n",
    "    \n",
    "    # if count >= 0:\n",
    "    #     sentiment.append(\"positive\")\n",
    "    # else:\n",
    "    #     sentiment.append(\"negative\")\n",
    "    \n",
    "\n",
    "    \n",
    "print(\"Tags: \\n\",temp_tag[-20:])\n",
    "print(\"Texts: \\n\",temp_text[-20:])"
   ]
  },
  {
   "cell_type": "code",
   "execution_count": null,
   "id": "00eb4274-2f99-4a12-a17f-e4969cd030c1",
   "metadata": {},
   "outputs": [],
   "source": [
    "# temp_tag.remove(r'\\w+\\d+')\n",
    "# print(\"Tags: \\n\",temp_tag[-20:])\n",
    "\n",
    "\n",
    "#     # Get pre-defined sentiment tags\n",
    "#     num_list = re.findall(r'[+|-]+\\d+', left_tag)\n",
    "#     num_list = [num.replace('+', '') for num in num_list]\n",
    "    \n",
    "#     print(\"After:\\n\", num_list)\n",
    "#     for num in num_list:\n",
    "#         count = 0\n",
    "#         count += int(num)\n",
    "#     # print(count)\n",
    "    \n",
    "#     if count >= 0:\n",
    "#         sentiment.append(\"positive\")\n",
    "#     else:\n",
    "#         sentiment.append(\"negative\")\n",
    "    \n",
    "# print(num_list) \n",
    "# print(sentiment)"
   ]
  },
  {
   "cell_type": "code",
   "execution_count": null,
   "id": "9b939c90-16a9-4645-92bb-5d2fbb31d3ad",
   "metadata": {},
   "outputs": [],
   "source": [
    "# Seperate training data and testing data"
   ]
  },
  {
   "cell_type": "code",
   "execution_count": null,
   "id": "74154607-467b-40bb-9dbd-9610abc5c1c0",
   "metadata": {},
   "outputs": [],
   "source": []
  }
 ],
 "metadata": {
  "kernelspec": {
   "display_name": "Python 3 (ipykernel)",
   "language": "python",
   "name": "python3"
  },
  "language_info": {
   "codemirror_mode": {
    "name": "ipython",
    "version": 3
   },
   "file_extension": ".py",
   "mimetype": "text/x-python",
   "name": "python",
   "nbconvert_exporter": "python",
   "pygments_lexer": "ipython3",
   "version": "3.9.13"
  }
 },
 "nbformat": 4,
 "nbformat_minor": 5
}
