{
 "cells": [
  {
   "cell_type": "code",
   "execution_count": 44,
   "id": "06b18efd-fc1f-457f-ae73-34397493211b",
   "metadata": {},
   "outputs": [
    {
     "ename": "ModuleNotFoundError",
     "evalue": "No module named 'tensorflow'",
     "output_type": "error",
     "traceback": [
      "\u001b[0;31m---------------------------------------------------------------------------\u001b[0m",
      "\u001b[0;31mModuleNotFoundError\u001b[0m                       Traceback (most recent call last)",
      "\u001b[0;32m/var/folders/c7/ncftj36n1_7g9ljr1hpqgvj00000gn/T/ipykernel_2606/559358687.py\u001b[0m in \u001b[0;36m<module>\u001b[0;34m\u001b[0m\n\u001b[1;32m     30\u001b[0m \u001b[0;34m\u001b[0m\u001b[0m\n\u001b[1;32m     31\u001b[0m \u001b[0;32mfrom\u001b[0m \u001b[0msklearn\u001b[0m\u001b[0;34m.\u001b[0m\u001b[0mpreprocessing\u001b[0m \u001b[0;32mimport\u001b[0m \u001b[0mLabelEncoder\u001b[0m\u001b[0;34m\u001b[0m\u001b[0;34m\u001b[0m\u001b[0m\n\u001b[0;32m---> 32\u001b[0;31m \u001b[0;32mfrom\u001b[0m \u001b[0mtensorflow\u001b[0m\u001b[0;34m.\u001b[0m\u001b[0mkeras\u001b[0m\u001b[0;34m.\u001b[0m\u001b[0mpreprocessing\u001b[0m\u001b[0;34m.\u001b[0m\u001b[0mtext\u001b[0m \u001b[0;32mimport\u001b[0m \u001b[0mTokenizer\u001b[0m\u001b[0;34m\u001b[0m\u001b[0;34m\u001b[0m\u001b[0m\n\u001b[0m\u001b[1;32m     33\u001b[0m \u001b[0;32mfrom\u001b[0m \u001b[0mtensorflow\u001b[0m\u001b[0;34m.\u001b[0m\u001b[0mkeras\u001b[0m\u001b[0;34m.\u001b[0m\u001b[0mpreprocessing\u001b[0m\u001b[0;34m.\u001b[0m\u001b[0msequence\u001b[0m \u001b[0;32mimport\u001b[0m \u001b[0mpad_sequences\u001b[0m\u001b[0;34m\u001b[0m\u001b[0;34m\u001b[0m\u001b[0m\n\u001b[1;32m     34\u001b[0m \u001b[0;32mimport\u001b[0m \u001b[0mkeras\u001b[0m\u001b[0;34m\u001b[0m\u001b[0;34m\u001b[0m\u001b[0m\n",
      "\u001b[0;31mModuleNotFoundError\u001b[0m: No module named 'tensorflow'"
     ]
    }
   ],
   "source": [
    "from nltk.corpus.reader.wordnet import Lemma\n",
    "import nltk\n",
    "\n",
    "# For file reading\n",
    "import os\n",
    "from os import listdir\n",
    "# For pre-processing \n",
    "from nltk import word_tokenize\n",
    "from nltk.tokenize import punkt\n",
    "from nltk.corpus import stopwords\n",
    "from nltk.stem.wordnet import WordNetLemmatizer\n",
    "from nltk.stem import PorterStemmer\n",
    "\n",
    "import re\n",
    "import pandas as pd\n",
    "import numpy as np\n",
    "import string\n",
    "import random\n",
    "\n",
    "import torch\n",
    "import torch.nn as nn\n",
    "import torch.nn.functional as F\n",
    "import seaborn as sns\n",
    "import matplotlib.pyplot as plt\n",
    "from tqdm import tqdm\n",
    "from collections import Counter\n",
    "from torch.utils.data import TensorDataset, DataLoader\n",
    "from sklearn.model_selection import train_test_split\n",
    "from sklearn.cluster import KMeans"
   ]
  },
  {
   "cell_type": "code",
   "execution_count": 2,
   "id": "3a7e5886-c4ee-44de-89e2-09f3baef009c",
   "metadata": {},
   "outputs": [],
   "source": [
    "def read_data(path: str) -> list:\n",
    "    \"\"\" Read files from a directory and then append the data of each file into a list. \"\"\"\n",
    "    folder = listdir(path)\n",
    "    res = []\n",
    "    for files in folder:\n",
    "        # check if current path is a file\n",
    "        if files != \"README.txt\":\n",
    "            filePath = os.path.join(path, files)\n",
    "            if os.path.isfile(filePath):\n",
    "                with open(filePath, \"r\") as file:\n",
    "                    lines = file.readlines()\n",
    "                res.append(lines)\n",
    "    return res\n"
   ]
  },
  {
   "cell_type": "code",
   "execution_count": 3,
   "id": "8647ef7d-7cf9-42dd-9a95-34152c93839f",
   "metadata": {},
   "outputs": [],
   "source": [
    "path = \"/Users/rubyli/Desktop/GitHubRepos/UoM/NLP-Distributional-Semantics-Neural-Network-for-Classifying-Product-Reviews/product_reviews\"\n",
    "\n",
    "# Reading documents\n",
    "res = read_data(path)\n",
    "# print(res[1][:5])"
   ]
  },
  {
   "cell_type": "code",
   "execution_count": 4,
   "id": "8b27cd6f-1d29-4e19-8994-2025bf3351b2",
   "metadata": {},
   "outputs": [],
   "source": [
    "# Getting avaliable data for LSTM\n",
    "avaliable_data = []\n",
    "for document in res:\n",
    "    # Remove \\n from the string list\n",
    "    processedList = [s.strip() for s in document]\n",
    "    # Remove [t] tag\n",
    "    processedList = [re.sub('\\[t\\]', '', word) for word in processedList]\n",
    "    # Store values in list\n",
    "    for sentence in processedList:\n",
    "        # Remove non-tagged data and empty data\n",
    "        if (not sentence.startswith(\"##\")) and (sentence != \"\"):\n",
    "            avaliable_data.append(sentence)"
   ]
  },
  {
   "cell_type": "code",
   "execution_count": 5,
   "id": "80ee4452-e2e3-4e2d-b446-8dd6485b9c85",
   "metadata": {},
   "outputs": [
    {
     "name": "stdout",
     "output_type": "stream",
     "text": [
      "size[+1][u],pictures[+2]##After getting one for Christmas from Amazon, I'm now a believer:  The Digital Elph is truly the world's smallest digital camera that shoots great pictures. \n",
      "\n",
      "pictures[+2]##I've had this camera just over 2 years and it takes pretty good pictures. \n",
      "\n",
      "size[+3]##The size is tiny, which I love. \n",
      "\n",
      "pictures[-1]##Sometimes the pictures are onthe dark side, but I'm able to fix that using the Photoshop 6.0 \"adjust levels\" function ... not sure how a person would do that without Photoshop, though. \n",
      "\n",
      "ease of use[+3][u]##This camera is so easy to use! \n",
      "\n",
      "features[+3]##All the features are incredibly intuitive, even for a novice like me. \n",
      "\n",
      "pictures[+3],size[+3]##The pictures are beautiful, and the camera is so small you can carry it anywhere. \n",
      "\n",
      "price[+2],features[+2],size[+2],ease of use[+2]##I, as many others, have waited for many years for the convergence of price, features, size and ease of use to hit that happy center point. \n",
      "\n",
      "fun[+3]##I bought this little guy a few weeks back, and I have to saythat I never had so much fun with a new toy as this. \n",
      "\n",
      "size[+3]##You willdefinitly appreciate the small size. \n",
      "\n"
     ]
    }
   ],
   "source": [
    "for sen in avaliable_data[-10:]:\n",
    "    print(sen, \"\\n\")"
   ]
  },
  {
   "cell_type": "code",
   "execution_count": 6,
   "id": "480940c8-78d6-4b67-a59c-68824307ae8d",
   "metadata": {},
   "outputs": [
    {
     "name": "stdout",
     "output_type": "stream",
     "text": [
      "2138\n",
      "[\"size[+1][u],pictures[+2]##After getting one for Christmas from Amazon, I'm now a believer:  The Digital Elph is truly the world's smallest digital camera that shoots great pictures.\", \"pictures[+2]##I've had this camera just over 2 years and it takes pretty good pictures.\", 'size[+3]##The size is tiny, which I love.', 'pictures[-1]##Sometimes the pictures are onthe dark side, but I\\'m able to fix that using the Photoshop 6.0 \"adjust levels\" function ... not sure how a person would do that without Photoshop, though.', 'ease of use[+3][u]##This camera is so easy to use!', 'features[+3]##All the features are incredibly intuitive, even for a novice like me.', 'pictures[+3],size[+3]##The pictures are beautiful, and the camera is so small you can carry it anywhere.', 'price[+2],features[+2],size[+2],ease of use[+2]##I, as many others, have waited for many years for the convergence of price, features, size and ease of use to hit that happy center point.', 'fun[+3]##I bought this little guy a few weeks back, and I have to saythat I never had so much fun with a new toy as this.', 'size[+3]##You willdefinitly appreciate the small size.']\n"
     ]
    }
   ],
   "source": [
    "print(len(avaliable_data))\n",
    "print(avaliable_data[-10:])"
   ]
  },
  {
   "cell_type": "code",
   "execution_count": 7,
   "id": "df7d95f3-6c00-42f4-b9c9-fceb4474a315",
   "metadata": {},
   "outputs": [
    {
     "name": "stdout",
     "output_type": "stream",
     "text": [
      "Tags: \n",
      " [['-1'], ['-1'], ['1'], ['+2', '+2'], ['+3', '+2'], ['+3'], ['+2', '+2'], ['+1'], ['+2'], ['+1'], ['+1', '+2'], ['+2'], ['+3'], ['-1'], ['+3'], ['+3'], ['+3', '+3'], ['+2', '+2', '+2', '+2'], ['+3'], ['+3']]\n",
      "Texts: \n",
      " ['8- Buttons are little, but If you have steady fingers and dealed with a casio wirst calculator watch, you can deal with almost anything.', 'Buttons size is OK for me, my wife, but not my grany.', 'i researched and researched between getting the canon s20 or the canon s100, and of course i got the latter!', \"I was looking for something that wasn't too complicated to use and to help the pics I post on Ebay show more detial.\", 'This camera is great, wonderfully small, and has attactive hi-tech casing.', \"Very easy to use for someone like me who's just hopping on the digital camera bandwagon.\", 'The controls are easy to understand and big enough that they are easy to see and use.', 'The optical and digital zooms combine to give an effective 4x zoom.', 'This is enough capacity and capability to do a complete household inventory, for example.', \"because, unless it's small, I won't cary it around.\", \"After getting one for Christmas from Amazon, I'm now a believer:  The Digital Elph is truly the world's smallest digital camera that shoots great pictures.\", \"I've had this camera just over 2 years and it takes pretty good pictures.\", 'The size is tiny, which I love.', 'Sometimes the pictures are onthe dark side, but I\\'m able to fix that using the Photoshop 6.0 \"adjust levels\" function ... not sure how a person would do that without Photoshop, though.', 'This camera is so easy to use!', 'All the features are incredibly intuitive, even for a novice like me.', 'The pictures are beautiful, and the camera is so small you can carry it anywhere.', 'I, as many others, have waited for many years for the convergence of price, features, size and ease of use to hit that happy center point.', 'I bought this little guy a few weeks back, and I have to saythat I never had so much fun with a new toy as this.', 'You willdefinitly appreciate the small size.']\n"
     ]
    }
   ],
   "source": [
    "# Store review and sentiment seperatly in 2 lists\n",
    "raw_review = []\n",
    "raw_sentiment = []\n",
    "\n",
    "temp_tag = []\n",
    "temp_text = []\n",
    "for data in avaliable_data:\n",
    "    \n",
    "    split_data = data.split(\"##\")\n",
    "    \n",
    "    left_tag = split_data[0]\n",
    "    right_text = split_data[-1]\n",
    "\n",
    "    # print(\"Before:   \",left_tag)\n",
    "\n",
    "    # Get pre-defined sentiment tags\n",
    "    num_list = re.findall(r'[+|-]+\\d+', left_tag)\n",
    "    # Replace all tag with + or - \n",
    "    \n",
    "    \n",
    "    num_only = re.findall(r'\\[\\d+\\]', left_tag)\n",
    "    \n",
    "    new_num_only = [num.replace('[', '') for num in num_only]\n",
    "    new_num_only = [num.replace(']', '') for num in new_num_only]\n",
    "    num_list = num_list +  new_num_only\n",
    "        \n",
    "    # num_list = [num.replace('+', '') for num in num_list]\n",
    "\n",
    "    temp_tag.append(num_list)\n",
    "    temp_text.append(right_text)\n",
    "    \n",
    "print(\"Tags: \\n\",temp_tag[-20:])\n",
    "print(\"Texts: \\n\",temp_text[-20:])"
   ]
  },
  {
   "cell_type": "code",
   "execution_count": 8,
   "id": "5fd90da8-3fb8-4c0a-827d-a0dfcf4ead10",
   "metadata": {},
   "outputs": [],
   "source": [
    "def preprocess_text(s: str) -> list:\n",
    "    '''Text cleaning and pre-processing'''\n",
    "    # Remove number\n",
    "    s = re.sub(r'\\d+', ' ', s)\n",
    "    pattern = r'''(?x)        # set flag to allow verbose regexps\n",
    "                    (?:[A-Z]\\.)+      #abbreviations, e.g. \n",
    "                    |\\[\n",
    "                    |\\w+\\'+\\w+        #keep contractions, e.g. doesn't \n",
    "                    |[^\\w\\s]\n",
    "                    |\\#\n",
    "                    |[-.(]+           #double hyphen, ellipsis, open parenthesis\n",
    "                    |\\S\\w*\n",
    "                    |\\$?\\d+(?:\\.\\d+)?%? #currency and percentages\n",
    "        '''\n",
    "    # Tokenization\n",
    "    token_list = nltk.regexp_tokenize(s, pattern)\n",
    "    #To lower case\n",
    "    token_list = [word.lower() for word in token_list]\n",
    "    #Remove stopwords\n",
    "    stopW = stopwords.words(\"english\")\n",
    "    stopW.append(\"mp\")\n",
    "    stopW.append(\"i'm\")\n",
    "    stopW.append(\"i've\")\n",
    "    token_list = list(filter(lambda word: word not in stopW,token_list))\n",
    "    #Remove Punctuation\n",
    "    token_list = list(filter(lambda word: punkt.PunktToken(word).is_non_punct,token_list))\n",
    "    # Lemmatization \n",
    "    lemma = WordNetLemmatizer()\n",
    "    token_list = [lemma.lemmatize(word) for word in token_list]\n",
    "    \n",
    "    return token_list\n",
    "\n",
    "# print(temp_text[2])\n",
    "# print(preprocess_text(temp_text[2]))"
   ]
  },
  {
   "cell_type": "code",
   "execution_count": 9,
   "id": "b491caf6-b0bc-48fb-90bd-858cc71fd967",
   "metadata": {},
   "outputs": [
    {
     "name": "stdout",
     "output_type": "stream",
     "text": [
      "2138\n"
     ]
    }
   ],
   "source": [
    "reviews = []\n",
    "for text in temp_text:\n",
    "    review = preprocess_text(text)\n",
    "    reviews.append(review)\n",
    "# print(reviews[50:70])\n",
    "print(len(reviews))"
   ]
  },
  {
   "cell_type": "code",
   "execution_count": 10,
   "id": "a7cbb783-3ccb-446e-84c2-1cc79eae6dfa",
   "metadata": {},
   "outputs": [
    {
     "name": "stdout",
     "output_type": "stream",
     "text": [
      "2138\n"
     ]
    }
   ],
   "source": [
    "sentiments = []\n",
    "for review in temp_tag:\n",
    "    # print(\"Review:   \",review)\n",
    "    total = 0\n",
    "    tag_size = len(review)\n",
    "    # Add all the positive and negative tag together to check if the whole review is positive or negative\n",
    "    if tag_size >= 1:\n",
    "        for num in review:\n",
    "            total += int(num)\n",
    "    # print(\"Total:   \",total)\n",
    "    if total > 0:\n",
    "        sentiments.append(\"positive\")\n",
    "    else:\n",
    "        sentiments.append(\"negative\")\n",
    "        \n",
    "# print(sentiments[:50])\n",
    "print(len(sentiments))"
   ]
  },
  {
   "cell_type": "code",
   "execution_count": 12,
   "id": "9b939c90-16a9-4645-92bb-5d2fbb31d3ad",
   "metadata": {},
   "outputs": [
    {
     "name": "stdout",
     "output_type": "stream",
     "text": [
      "positive\n",
      "['pertaining', 'speed', 'issue', 'got', 'mp', 'room']\n",
      "======================================================================\n",
      "negative\n",
      "['downside', 'size', 'phone', 'big', \"today's\", 'standard']\n",
      "======================================================================\n",
      "negative\n",
      "['configuring', 'home', 'network', 'almost', 'impossible']\n",
      "======================================================================\n",
      "negative\n",
      "['first', 'thing', 'noticed', 'creative', 'well', 'made']\n",
      "======================================================================\n",
      "positive\n",
      "['setup', 'using', 'cd', 'easy', 'learning', 'open', 'refrigerator', 'door', 'first', 'time']\n",
      "======================================================================\n",
      "negative\n",
      "['think', 'saving', 'getting', 'hitachi', 'right', 'also', 'getting', 'router', 'worth', 'le', 'makita']\n",
      "======================================================================\n",
      "negative\n",
      "['hand', 'set', 'good', 'aware', 'mobile', 'rebate']\n",
      "======================================================================\n",
      "negative\n",
      "['sceptical', 'seen', 'price', 'deference', 'maker', 'comparible', 'hp']\n",
      "======================================================================\n",
      "positive\n",
      "['installation', 'set', 'operating', 'interface', 'well', 'organized', 'intuitive', 'email', 'spam', 'component', 'work', 'well']\n",
      "======================================================================\n",
      "negative\n",
      "['phone', 'suitable', 'fast', 'people', 'maybe', 'old', 'people']\n",
      "======================================================================\n"
     ]
    }
   ],
   "source": [
    "# labels, texts = np.array(sentiments), np.array(reviews)\n",
    "# Seperate training data and testing data\n",
    "# X is a list of texts, and y is a list of labels\n",
    "# texts_train, texts_test, labels_train, labels_test = train_test_split(sentiments, reviews, test_size=0.2, random_state=42)\n",
    "# for i in range(10):\n",
    "#     print(texts_train[i+50])\n",
    "#     print(labels_train[i+50])\n",
    "#     print(\"=\"*70)"
   ]
  },
  {
   "cell_type": "markdown",
   "id": "6def4f12-b635-43aa-a9a2-9e7dc3269ac0",
   "metadata": {},
   "source": [
    "# Split data into training and testing data"
   ]
  },
  {
   "cell_type": "code",
   "execution_count": 14,
   "id": "3ee895fe-54d5-4365-84ab-50b733a876e5",
   "metadata": {},
   "outputs": [],
   "source": [
    "data = []\n",
    "for i in range(len(sentiments)):\n",
    "    data.append([reviews[i], sentiments[i]])\n",
    "# print(data)\n",
    "# Create the dataframe for training and testing data\n",
    "df = pd.DataFrame(data, columns=[\"Reviews\", \"Sentiments\"])\n",
    "# print(df)"
   ]
  },
  {
   "cell_type": "code",
   "execution_count": 15,
   "id": "e52b3e46-3d32-4ee4-91ec-a36e436a5c85",
   "metadata": {},
   "outputs": [
    {
     "data": {
      "text/html": [
       "<div>\n",
       "<style scoped>\n",
       "    .dataframe tbody tr th:only-of-type {\n",
       "        vertical-align: middle;\n",
       "    }\n",
       "\n",
       "    .dataframe tbody tr th {\n",
       "        vertical-align: top;\n",
       "    }\n",
       "\n",
       "    .dataframe thead th {\n",
       "        text-align: right;\n",
       "    }\n",
       "</style>\n",
       "<table border=\"1\" class=\"dataframe\">\n",
       "  <thead>\n",
       "    <tr style=\"text-align: right;\">\n",
       "      <th></th>\n",
       "      <th>Reviews</th>\n",
       "      <th>Sentiments</th>\n",
       "    </tr>\n",
       "  </thead>\n",
       "  <tbody>\n",
       "    <tr>\n",
       "      <th>0</th>\n",
       "      <td>[work, great, odor, us, regular, bag]</td>\n",
       "      <td>positive</td>\n",
       "    </tr>\n",
       "    <tr>\n",
       "      <th>1</th>\n",
       "      <td>[far, week, we've, problem, diaper, champ]</td>\n",
       "      <td>positive</td>\n",
       "    </tr>\n",
       "    <tr>\n",
       "      <th>2</th>\n",
       "      <td>[contains, smell, baby's, diaper, use, kind, b...</td>\n",
       "      <td>positive</td>\n",
       "    </tr>\n",
       "    <tr>\n",
       "      <th>3</th>\n",
       "      <td>[know, we'll, run, trouble, road, odor, far, c...</td>\n",
       "      <td>positive</td>\n",
       "    </tr>\n",
       "    <tr>\n",
       "      <th>4</th>\n",
       "      <td>[diaper, champ, best, found]</td>\n",
       "      <td>positive</td>\n",
       "    </tr>\n",
       "    <tr>\n",
       "      <th>5</th>\n",
       "      <td>[specail, bag, deal, buy]</td>\n",
       "      <td>positive</td>\n",
       "    </tr>\n",
       "    <tr>\n",
       "      <th>6</th>\n",
       "      <td>[use, cheap, gallon, vanilla, scented, bag, gr...</td>\n",
       "      <td>positive</td>\n",
       "    </tr>\n",
       "    <tr>\n",
       "      <th>7</th>\n",
       "      <td>[start, smelling, leave, diaper, extended, per...</td>\n",
       "      <td>negative</td>\n",
       "    </tr>\n",
       "    <tr>\n",
       "      <th>8</th>\n",
       "      <td>[empty, every, day, never, odor]</td>\n",
       "      <td>positive</td>\n",
       "    </tr>\n",
       "    <tr>\n",
       "      <th>9</th>\n",
       "      <td>[far, better, trash, diaper, genie, fairly, in...</td>\n",
       "      <td>positive</td>\n",
       "    </tr>\n",
       "    <tr>\n",
       "      <th>10</th>\n",
       "      <td>[love, purchase, expensive, refill]</td>\n",
       "      <td>positive</td>\n",
       "    </tr>\n",
       "    <tr>\n",
       "      <th>11</th>\n",
       "      <td>[con, time, diaper, wipe, get, stuck, disposal...</td>\n",
       "      <td>negative</td>\n",
       "    </tr>\n",
       "    <tr>\n",
       "      <th>12</th>\n",
       "      <td>[addition, believe, odorless]</td>\n",
       "      <td>negative</td>\n",
       "    </tr>\n",
       "    <tr>\n",
       "      <th>13</th>\n",
       "      <td>[daughter, month, old, notice, odor]</td>\n",
       "      <td>negative</td>\n",
       "    </tr>\n",
       "    <tr>\n",
       "      <th>14</th>\n",
       "      <td>[even, cost, saving, using, type, bag, would, ...</td>\n",
       "      <td>positive</td>\n",
       "    </tr>\n",
       "  </tbody>\n",
       "</table>\n",
       "</div>"
      ],
      "text/plain": [
       "                                              Reviews Sentiments\n",
       "0               [work, great, odor, us, regular, bag]   positive\n",
       "1          [far, week, we've, problem, diaper, champ]   positive\n",
       "2   [contains, smell, baby's, diaper, use, kind, b...   positive\n",
       "3   [know, we'll, run, trouble, road, odor, far, c...   positive\n",
       "4                        [diaper, champ, best, found]   positive\n",
       "5                           [specail, bag, deal, buy]   positive\n",
       "6   [use, cheap, gallon, vanilla, scented, bag, gr...   positive\n",
       "7   [start, smelling, leave, diaper, extended, per...   negative\n",
       "8                    [empty, every, day, never, odor]   positive\n",
       "9   [far, better, trash, diaper, genie, fairly, in...   positive\n",
       "10                [love, purchase, expensive, refill]   positive\n",
       "11  [con, time, diaper, wipe, get, stuck, disposal...   negative\n",
       "12                      [addition, believe, odorless]   negative\n",
       "13               [daughter, month, old, notice, odor]   negative\n",
       "14  [even, cost, saving, using, type, bag, would, ...   positive"
      ]
     },
     "execution_count": 15,
     "metadata": {},
     "output_type": "execute_result"
    }
   ],
   "source": [
    "df.head(15)"
   ]
  },
  {
   "cell_type": "code",
   "execution_count": 39,
   "id": "bb6e3993-3404-42e4-81f9-e5bbe8534717",
   "metadata": {},
   "outputs": [
    {
     "ename": "NameError",
     "evalue": "name 'LabelEncoder' is not defined",
     "output_type": "error",
     "traceback": [
      "\u001b[0;31m---------------------------------------------------------------------------\u001b[0m",
      "\u001b[0;31mNameError\u001b[0m                                 Traceback (most recent call last)",
      "\u001b[0;32m/var/folders/c7/ncftj36n1_7g9ljr1hpqgvj00000gn/T/ipykernel_2606/4253743533.py\u001b[0m in \u001b[0;36m<module>\u001b[0;34m\u001b[0m\n\u001b[1;32m      1\u001b[0m \u001b[0mtexts\u001b[0m\u001b[0;34m,\u001b[0m \u001b[0mlabels\u001b[0m \u001b[0;34m=\u001b[0m \u001b[0mdf\u001b[0m\u001b[0;34m[\u001b[0m\u001b[0;34m'Reviews'\u001b[0m\u001b[0;34m]\u001b[0m\u001b[0;34m.\u001b[0m\u001b[0mvalues\u001b[0m\u001b[0;34m,\u001b[0m\u001b[0mdf\u001b[0m\u001b[0;34m[\u001b[0m\u001b[0;34m'Sentiments'\u001b[0m\u001b[0;34m]\u001b[0m\u001b[0;34m.\u001b[0m\u001b[0mvalues\u001b[0m\u001b[0;34m\u001b[0m\u001b[0;34m\u001b[0m\u001b[0m\n\u001b[0;32m----> 2\u001b[0;31m \u001b[0mencoder\u001b[0m \u001b[0;34m=\u001b[0m \u001b[0mLabelEncoder\u001b[0m\u001b[0;34m(\u001b[0m\u001b[0;34m)\u001b[0m\u001b[0;34m\u001b[0m\u001b[0;34m\u001b[0m\u001b[0m\n\u001b[0m\u001b[1;32m      3\u001b[0m \u001b[0mencoded_labels\u001b[0m \u001b[0;34m=\u001b[0m \u001b[0mencoder\u001b[0m\u001b[0;34m.\u001b[0m\u001b[0mfit_transform\u001b[0m\u001b[0;34m(\u001b[0m\u001b[0mlabels\u001b[0m\u001b[0;34m)\u001b[0m\u001b[0;34m\u001b[0m\u001b[0;34m\u001b[0m\u001b[0m\n\u001b[1;32m      4\u001b[0m \u001b[0mprint\u001b[0m\u001b[0;34m(\u001b[0m\u001b[0mencoded_labels\u001b[0m\u001b[0;34m)\u001b[0m\u001b[0;34m\u001b[0m\u001b[0;34m\u001b[0m\u001b[0m\n\u001b[1;32m      5\u001b[0m \u001b[0;31m# texts_train, texts_test, labels_train, labels_test = train_test_split(texts, labels, test_size=0.2, random_state=42)\u001b[0m\u001b[0;34m\u001b[0m\u001b[0;34m\u001b[0m\u001b[0m\n",
      "\u001b[0;31mNameError\u001b[0m: name 'LabelEncoder' is not defined"
     ]
    }
   ],
   "source": [
    "texts, labels = df['Reviews'].values,df['Sentiments'].values\n",
    "encoder = LabelEncoder()\n",
    "encoded_labels = encoder.fit_transform(labels)\n",
    "print(encoded_labels)\n",
    "# texts_train, texts_test, labels_train, labels_test = train_test_split(texts, labels, test_size=0.2, random_state=42)\n",
    "texts_train, texts_test, labels_train, labels_test = train_test_split(texts, labels, stratify=encoded_labels)"
   ]
  },
  {
   "cell_type": "code",
   "execution_count": 17,
   "id": "de8b4e46-400b-4c59-9fe6-385c20e2b08e",
   "metadata": {},
   "outputs": [
    {
     "name": "stdout",
     "output_type": "stream",
     "text": [
      "['positive' 'positive' 'negative' 'negative' 'positive' 'negative'\n",
      " 'positive' 'positive' 'positive' 'positive'] \n",
      " ['positive' 'positive' 'positive' 'positive' 'positive' 'positive'\n",
      " 'positive' 'positive' 'positive' 'positive']\n"
     ]
    }
   ],
   "source": [
    "# print(labels_train[:10], \"\\n\",labels_test[:10] )"
   ]
  },
  {
   "cell_type": "code",
   "execution_count": 18,
   "id": "0e005030-5925-4610-a0ed-3f80b0fe1d88",
   "metadata": {},
   "outputs": [
    {
     "name": "stdout",
     "output_type": "stream",
     "text": [
      "1603 \n",
      " 535\n"
     ]
    }
   ],
   "source": [
    "print(len(labels_train), \"\\n\",len(labels_test))"
   ]
  },
  {
   "cell_type": "code",
   "execution_count": 19,
   "id": "66a91cec-52f7-435d-9a66-f790761b9198",
   "metadata": {},
   "outputs": [
    {
     "data": {
      "image/png": "[encoded data removed]",
      "text/plain": [
       "<Figure size 640x480 with 1 Axes>"
      ]
     },
     "metadata": {},
     "output_type": "display_data"
    }
   ],
   "source": [
    "dd = pd.Series(labels_train).value_counts()\n",
    "sns.barplot(x=np.array(['negative','positive']),y=dd.values)\n",
    "plt.show()"
   ]
  },
  {
   "cell_type": "code",
   "execution_count": 20,
   "id": "053043a9-8bb7-43e1-aa59-1a5996aa1f19",
   "metadata": {},
   "outputs": [],
   "source": [
    "word_list = []\n",
    "for sent in texts_train:\n",
    "    for word in sent:\n",
    "        word_list.append(word)\n",
    "\n",
    "corpus = Counter(word_list)\n",
    "# sorting on the basis of most common words\n",
    "corpus_ = sorted(corpus,key=corpus.get,reverse=True)[:1000]\n",
    "# creating a dict\n",
    "onehot_dict = {w:i+1 for i,w in enumerate(corpus_)}"
   ]
  },
  {
   "cell_type": "code",
   "execution_count": 23,
   "id": "fe1d7ea1-fa2c-4d78-9091-d9df8460d847",
   "metadata": {},
   "outputs": [
    {
     "name": "stdout",
     "output_type": "stream",
     "text": [
      "Length of vocabulary is 1000\n"
     ]
    }
   ],
   "source": [
    "print(f'Length of vocabulary is {len(onehot_dict)}')"
   ]
  },
  {
   "cell_type": "code",
   "execution_count": 24,
   "id": "a45719eb-4b74-4edb-9641-b279cade0c7c",
   "metadata": {},
   "outputs": [
    {
     "data": {
      "image/png": "[encoded data removed]",
      "text/plain": [
       "<Figure size 640x480 with 1 Axes>"
      ]
     },
     "metadata": {},
     "output_type": "display_data"
    },
    {
     "data": {
      "text/plain": [
       "count    1603.000000\n",
       "mean        8.885839\n",
       "std         5.466965\n",
       "min         0.000000\n",
       "25%         5.000000\n",
       "50%         8.000000\n",
       "75%        11.000000\n",
       "max        48.000000\n",
       "dtype: float64"
      ]
     },
     "execution_count": 24,
     "metadata": {},
     "output_type": "execute_result"
    }
   ],
   "source": [
    "rev_len = [len(i) for i in texts_train]\n",
    "pd.Series(rev_len).hist()\n",
    "plt.show()\n",
    "pd.Series(rev_len).describe()"
   ]
  },
  {
   "cell_type": "code",
   "execution_count": 29,
   "id": "e31fcf92-b969-44a4-af7d-9afbc6040e92",
   "metadata": {},
   "outputs": [
    {
     "data": {
      "text/html": [
       "<div>\n",
       "<style scoped>\n",
       "    .dataframe tbody tr th:only-of-type {\n",
       "        vertical-align: middle;\n",
       "    }\n",
       "\n",
       "    .dataframe tbody tr th {\n",
       "        vertical-align: top;\n",
       "    }\n",
       "\n",
       "    .dataframe thead th {\n",
       "        text-align: right;\n",
       "    }\n",
       "</style>\n",
       "<table border=\"1\" class=\"dataframe\">\n",
       "  <thead>\n",
       "    <tr style=\"text-align: right;\">\n",
       "      <th></th>\n",
       "      <th>Reviews</th>\n",
       "      <th>Sentiments</th>\n",
       "    </tr>\n",
       "  </thead>\n",
       "  <tbody>\n",
       "    <tr>\n",
       "      <th>0</th>\n",
       "      <td>[work, great, odor, us, regular, bag]</td>\n",
       "      <td>positive</td>\n",
       "    </tr>\n",
       "    <tr>\n",
       "      <th>1</th>\n",
       "      <td>[far, week, we've, problem, diaper, champ]</td>\n",
       "      <td>positive</td>\n",
       "    </tr>\n",
       "    <tr>\n",
       "      <th>2</th>\n",
       "      <td>[contains, smell, baby's, diaper, use, kind, b...</td>\n",
       "      <td>positive</td>\n",
       "    </tr>\n",
       "    <tr>\n",
       "      <th>3</th>\n",
       "      <td>[know, we'll, run, trouble, road, odor, far, c...</td>\n",
       "      <td>positive</td>\n",
       "    </tr>\n",
       "    <tr>\n",
       "      <th>4</th>\n",
       "      <td>[diaper, champ, best, found]</td>\n",
       "      <td>positive</td>\n",
       "    </tr>\n",
       "    <tr>\n",
       "      <th>5</th>\n",
       "      <td>[specail, bag, deal, buy]</td>\n",
       "      <td>positive</td>\n",
       "    </tr>\n",
       "    <tr>\n",
       "      <th>6</th>\n",
       "      <td>[use, cheap, gallon, vanilla, scented, bag, gr...</td>\n",
       "      <td>positive</td>\n",
       "    </tr>\n",
       "    <tr>\n",
       "      <th>7</th>\n",
       "      <td>[start, smelling, leave, diaper, extended, per...</td>\n",
       "      <td>negative</td>\n",
       "    </tr>\n",
       "    <tr>\n",
       "      <th>8</th>\n",
       "      <td>[empty, every, day, never, odor]</td>\n",
       "      <td>positive</td>\n",
       "    </tr>\n",
       "    <tr>\n",
       "      <th>9</th>\n",
       "      <td>[far, better, trash, diaper, genie, fairly, in...</td>\n",
       "      <td>positive</td>\n",
       "    </tr>\n",
       "  </tbody>\n",
       "</table>\n",
       "</div>"
      ],
      "text/plain": [
       "                                             Reviews Sentiments\n",
       "0              [work, great, odor, us, regular, bag]   positive\n",
       "1         [far, week, we've, problem, diaper, champ]   positive\n",
       "2  [contains, smell, baby's, diaper, use, kind, b...   positive\n",
       "3  [know, we'll, run, trouble, road, odor, far, c...   positive\n",
       "4                       [diaper, champ, best, found]   positive\n",
       "5                          [specail, bag, deal, buy]   positive\n",
       "6  [use, cheap, gallon, vanilla, scented, bag, gr...   positive\n",
       "7  [start, smelling, leave, diaper, extended, per...   negative\n",
       "8                   [empty, every, day, never, odor]   positive\n",
       "9  [far, better, trash, diaper, genie, fairly, in...   positive"
      ]
     },
     "execution_count": 29,
     "metadata": {},
     "output_type": "execute_result"
    }
   ],
   "source": [
    "df.head(10)"
   ]
  },
  {
   "cell_type": "code",
   "execution_count": 38,
   "id": "c44b7bc2-b2f5-4aa2-9919-70bf2b6a353d",
   "metadata": {},
   "outputs": [
    {
     "name": "stdout",
     "output_type": "stream",
     "text": [
      "Average length of each review :  8.902712815715622\n",
      "Percentage of reviews with positive sentiment is 62.86248830682881%\n",
      "Percentage of reviews with negative sentiment is 37.13751169317119%\n"
     ]
    }
   ],
   "source": [
    "s = 0.0\n",
    "for word_list in df['Reviews']:\n",
    "    s = s + len(word_list)\n",
    "print(\"Average length of each review : \",s/len(df['Reviews']))\n",
    "pos = 0\n",
    "for tag in df['Sentiments']:\n",
    "    if tag == \"positive\":\n",
    "        pos += 1\n",
    "neg = len(df['Reviews'])-pos\n",
    "print(\"Percentage of reviews with positive sentiment is \"+str(pos/len(df['Reviews'])*100)+\"%\")\n",
    "print(\"Percentage of reviews with negative sentiment is \"+str(neg/len(df['Reviews'])*100)+\"%\")"
   ]
  },
  {
   "cell_type": "code",
   "execution_count": null,
   "id": "367f0a85-c518-4712-9b58-c5072f377d4a",
   "metadata": {},
   "outputs": [],
   "source": []
  }
 ],
 "metadata": {
  "kernelspec": {
   "display_name": "Python 3 (ipykernel)",
   "language": "python",
   "name": "python3"
  },
  "language_info": {
   "codemirror_mode": {
    "name": "ipython",
    "version": 3
   },
   "file_extension": ".py",
   "mimetype": "text/x-python",
   "name": "python",
   "nbconvert_exporter": "python",
   "pygments_lexer": "ipython3",
   "version": "3.9.13"
  }
 },
 "nbformat": 4,
 "nbformat_minor": 5
}
